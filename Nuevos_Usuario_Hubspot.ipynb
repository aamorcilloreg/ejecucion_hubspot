{
 "cells": [
  {
   "cell_type": "code",
   "execution_count": 1,
   "metadata": {
    "colab": {
     "base_uri": "https://localhost:8080/"
    },
    "executionInfo": {
     "elapsed": 27372,
     "status": "ok",
     "timestamp": 1751998264151,
     "user": {
      "displayName": "Nicole Nuñez",
      "userId": "17651423384033710969"
     },
     "user_tz": 240
    },
    "id": "JMo3F-eRt2pw",
    "outputId": "bf8e7276-23d8-45f9-95ec-43fa7903aaa4"
   },
   "outputs": [
    {
     "name": "stdout",
     "output_type": "stream",
     "text": [
      "Collecting hubspot-api-client\n",
      "  Downloading hubspot_api_client-12.0.0-py3-none-any.whl.metadata (9.3 kB)\n",
      "Requirement already satisfied: requests>=2.31.0 in /usr/local/lib/python3.11/dist-packages (from hubspot-api-client) (2.32.3)\n",
      "Requirement already satisfied: urllib3<3.0,>=1.15 in /usr/local/lib/python3.11/dist-packages (from hubspot-api-client) (2.4.0)\n",
      "Requirement already satisfied: six<2.0,>=1.10 in /usr/local/lib/python3.11/dist-packages (from hubspot-api-client) (1.17.0)\n",
      "Requirement already satisfied: certifi>=2023.1.1 in /usr/local/lib/python3.11/dist-packages (from hubspot-api-client) (2025.6.15)\n",
      "Requirement already satisfied: python-dateutil>=2.8.2 in /usr/local/lib/python3.11/dist-packages (from hubspot-api-client) (2.9.0.post0)\n",
      "Requirement already satisfied: charset-normalizer<4,>=2 in /usr/local/lib/python3.11/dist-packages (from requests>=2.31.0->hubspot-api-client) (3.4.2)\n",
      "Requirement already satisfied: idna<4,>=2.5 in /usr/local/lib/python3.11/dist-packages (from requests>=2.31.0->hubspot-api-client) (3.10)\n",
      "Downloading hubspot_api_client-12.0.0-py3-none-any.whl (4.3 MB)\n",
      "\u001b[2K   \u001b[90m━━━━━━━━━━━━━━━━━━━━━━━━━━━━━━━━━━━━━━━━\u001b[0m \u001b[32m4.3/4.3 MB\u001b[0m \u001b[31m31.1 MB/s\u001b[0m eta \u001b[36m0:00:00\u001b[0m\n",
      "\u001b[?25hInstalling collected packages: hubspot-api-client\n",
      "Successfully installed hubspot-api-client-12.0.0\n",
      "Collecting rut_chile\n",
      "  Downloading rut_chile-2.0.1-py3-none-any.whl.metadata (1.9 kB)\n",
      "Downloading rut_chile-2.0.1-py3-none-any.whl (4.0 kB)\n",
      "Installing collected packages: rut_chile\n",
      "Successfully installed rut_chile-2.0.1\n"
     ]
    }
   ],
   "source": [
    "# Instalar paquetes\n",
    "!pip install hubspot-api-client\n",
    "!pip install rut_chile"
   ]
  },
  {
   "cell_type": "code",
   "execution_count": null,
   "metadata": {
    "executionInfo": {
     "elapsed": 834,
     "status": "ok",
     "timestamp": 1751998264995,
     "user": {
      "displayName": "Nicole Nuñez",
      "userId": "17651423384033710969"
     },
     "user_tz": 240
    },
    "id": "lH7hxB0PuAHZ"
   },
   "outputs": [],
   "source": [
    "import requests\n",
    "from rut_chile import rut_chile as rc\n",
    "import pandas as pd\n",
    "import numpy as np\n",
    "import unicodedata\n",
    "import re\n",
    "import time\n",
    "import psutil\n",
    "import os\n",
    "\n",
    "# Abrir archivo de log al inicio.\n",
    "log_file = open(\"log.txt\", \"w\")\n",
    "\n",
    "log_file.write(\"====================================================\\n\")\n",
    "log_file.write(\"== INICIO DEL SCRIPT DE CREACIÓN DE NUEVOS USUARIOS ==\\n\")\n",
    "log_file.write(\"====================================================\\n\")\n",
    "\n",
    "start = time.time()\n",
    "process = psutil.Process(os.getpid())\n",
    "mem_start = process.memory_info().rss\n",
    "\n"
   ]
  },
  {
   "cell_type": "code",
   "execution_count": null,
   "metadata": {
    "executionInfo": {
     "elapsed": 33,
     "status": "ok",
     "timestamp": 1751998265012,
     "user": {
      "displayName": "Nicole Nuñez",
      "userId": "17651423384033710969"
     },
     "user_tz": 240
    },
    "id": "jZPdn6rzuD4Y"
   },
   "outputs": [],
   "source": [
    "# Función para validar rut\n",
    "def validar_rut(rut):\n",
    "    try:\n",
    "        return rc.is_valid_rut(rut)\n",
    "    except Exception as e:\n",
    "        return False\n",
    "\n",
    "def agregar_guion(valor):\n",
    "    if pd.notna(valor) and len(valor) > 1:\n",
    "        return valor[:-1] + '-' + valor[-1]\n",
    "    else:\n",
    "        return valor\n",
    "\n",
    "def eliminar_cero(valor):\n",
    "    if isinstance(valor, str) and valor.startswith('0'):\n",
    "        return valor[1:]\n",
    "    return valor\n",
    "\n",
    "def consulta_api(id, access_token=None, identificador='rut'):\n",
    "    # Definir URL y variables según identificador\n",
    "    if identificador == 'rut':\n",
    "        url = f'https://medicocontratosinfo.colegiomedico.cl/api/MedicoContratos/byRut/{id}/true'\n",
    "    elif identificador == 'icm':\n",
    "        url = f'https://medicocontratosinfo.colegiomedico.cl/api/MedicoContratos/byICM/{id}/true'\n",
    "    elif identificador == 'direccion':\n",
    "        url = f'https://medicocontratosinfo.colegiomedico.cl/api/Direcciones/byICM/{id}'\n",
    "    elif identificador == 'datos_direccion':\n",
    "        url = f'https://medicocontratosinfo.colegiomedico.cl/api/Direcc/byICM/{id}'\n",
    "\n",
    "    # Obtener token si no se proporciona\n",
    "    if access_token is None:\n",
    "        access_token = autorizacion_api()\n",
    "\n",
    "    # Configurar encabezados\n",
    "    headers = {'Authorization': f'Bearer {access_token}'}\n",
    "\n",
    "    try:\n",
    "        # Realizar la solicitud\n",
    "        response = requests.get(url, headers=headers, timeout=10)\n",
    "        response.raise_for_status()  # Lanza una excepción para códigos HTTP >= 400\n",
    "\n",
    "    except requests.exceptions.HTTPError as http_err:\n",
    "        if response.status_code == 404:\n",
    "            return {\n",
    "                \"error\": \"Recurso no encontrado.\",\n",
    "                \"status\": 404,\n",
    "                \"detalle\": f\"No se encontró el recurso solicitado con ID: {id}. URL: {url}\"\n",
    "            }\n",
    "        elif response.status_code == 401:\n",
    "            return {\n",
    "                \"error\": \"No autorizado.\",\n",
    "                \"status\": 401,\n",
    "                \"detalle\": \"El token es inválido o ha expirado. Intenta obtener un nuevo token.\"\n",
    "            }\n",
    "        else:\n",
    "            return {\n",
    "                \"error\": f\"HTTP Error {response.status_code}\",\n",
    "                \"detalle\": response.text\n",
    "            }\n",
    "    except requests.exceptions.RequestException as req_err:\n",
    "        return {\n",
    "            \"error\": \"Error de conexión.\",\n",
    "            \"detalle\": str(req_err)\n",
    "        }\n",
    "\n",
    "    # Si no hay errores, retorna el contenido como JSON\n",
    "    return response.json()\n",
    "\n",
    "def autorizacion_api():\n",
    "    # URL de autenticación\n",
    "    url_auth = 'https://authentication.colegiomedico.cl/api/authentication/authenticate'\n",
    "\n",
    "    # Credenciales desde variables de entorno\n",
    "    user = 'UsersCRSantiago'  # Valor por defecto\n",
    "    psw = 'UsersCRSantiago2024_&_&'  # Valor por defecto\n",
    "\n",
    "    # Verificar credenciales\n",
    "    if not user or not psw:\n",
    "        raise ValueError(\"Las credenciales de usuario o contraseña no están configuradas.\")\n",
    "\n",
    "    # Datos de autenticación\n",
    "    data = {\"userName\": user, \"password\": psw}\n",
    "\n",
    "    # Encabezados\n",
    "    headers = {\"Content-Type\": \"application/json\"}\n",
    "\n",
    "    # Solicitar token\n",
    "    response_auth = requests.post(url_auth, headers=headers, json=data)\n",
    "\n",
    "    # Verificar respuesta\n",
    "    if response_auth.status_code != 200:\n",
    "        raise Exception(f\"Error al autenticar: {response_auth.status_code} - {response_auth.text}\")\n",
    "\n",
    "    # Retornar token\n",
    "    access_token = response_auth.text\n",
    "    return access_token.strip('\"')\n",
    "\n",
    "import pandas as pd\n",
    "\n",
    "import pandas as pd\n",
    "\n",
    "def obtener_datos_desde_api(id_inicial, id_final, identificador='icm'):\n",
    "    resultados = []\n",
    "    respuestas_vacias_consecutivas = 0\n",
    "    limite_respuestas_vacias = 10\n",
    "\n",
    "    for id_actual in range(id_inicial, id_final + 1):\n",
    "        try:\n",
    "            log_file.write(f\"Consultando API externa - ID: {id_actual}\\n\")\n",
    "            respuesta = consulta_api(str(id_actual), identificador=identificador)\n",
    "\n",
    "            if isinstance(respuesta, dict) and 'status' in respuesta:\n",
    "                status_code = respuesta.get('status', None)\n",
    "                if status_code == 404:\n",
    "                    log_file.write(f\"ID {id_actual} no encontrado (404).\\n\")\n",
    "                    respuestas_vacias_consecutivas += 1\n",
    "                else:\n",
    "                    log_file.write(f\"ID {id_actual} devolvió un error ({status_code}).\\n\")\n",
    "                    respuestas_vacias_consecutivas += 1\n",
    "            elif not respuesta:\n",
    "                log_file.write(f\"ID {id_actual} no contiene información.\\n\")\n",
    "                respuestas_vacias_consecutivas += 1\n",
    "            else:\n",
    "                resultados.append(respuesta)\n",
    "                respuestas_vacias_consecutivas = 0\n",
    "\n",
    "            if respuestas_vacias_consecutivas >= limite_respuestas_vacias:\n",
    "                log_file.write(f\"Se encontraron {limite_respuestas_vacias} respuestas vacías consecutivas. Deteniendo la ejecución.\\n\")\n",
    "                break\n",
    "        except Exception as e:\n",
    "            log_file.write(f\"Error con ID {id_actual}: {e}\\n\")\n",
    "            continue\n",
    "    return pd.DataFrame(resultados)\n",
    "    \n",
    "#recorrer la api del nacional desde un id_inical hasta un id_final\n",
    "def obtener_datos_desde_api2(id_inicial, id_final, identificador='icm'):\n",
    "    resultados = []\n",
    "\n",
    "    for id_actual in range(id_inicial, id_final + 1):\n",
    "        try:\n",
    "            print(f\"Consultando ID: {id_actual}\")\n",
    "            # Llama a la función consulta_api (definida previamente)\n",
    "            respuesta = consulta_api(str(id_actual), identificador=identificador)\n",
    "            resultados.append(respuesta)\n",
    "\n",
    "        except Exception as e:\n",
    "            print(f\"Error con ID {id_actual}: {e}\")\n",
    "            continue\n",
    "\n",
    "    # Convertir resultados en un DataFrame\n",
    "    return pd.DataFrame(resultados)\n",
    "\n",
    "\n",
    "def limpiar_valor(valor):\n",
    "    \"\"\"Elimina caracteres especiales, convierte a minúsculas, y elimina tildes\"\"\"\n",
    "    # Eliminar tildes y acentos\n",
    "    valor_sin_tildes = unicodedata.normalize('NFKD', valor).encode('ASCII', 'ignore').decode('ASCII')\n",
    "    # Eliminar caracteres especiales\n",
    "    valor_limpio = re.sub(r'[^\\w\\s]', '', valor_sin_tildes)\n",
    "    return valor_limpio.replace(' ', '_').lower()\n"
   ]
  },
  {
   "cell_type": "markdown",
   "metadata": {
    "id": "osBu0MtfufGt"
   },
   "source": [
    "# **Obtener datos desde API NACIONAL**"
   ]
  },
  {
   "cell_type": "code",
   "execution_count": null,
   "metadata": {
    "colab": {
     "base_uri": "https://localhost:8080/"
    },
    "executionInfo": {
     "elapsed": 213460,
     "status": "ok",
     "timestamp": 1751998478470,
     "user": {
      "displayName": "Nicole Nuñez",
      "userId": "17651423384033710969"
     },
     "user_tz": 240
    },
    "id": "IFJF3smwuExN",
    "outputId": "66f29695-0991-4821-adc7-228b2197c410"
   },
   "outputs": [
    {
     "name": "stdout",
     "output_type": "stream",
     "text": [
      "Consultando ID: 59504\n",
      "ID 59504 no encontrado (404).\n",
      "Consultando ID: 59505\n",
      "ID 59505 no encontrado (404).\n",
      "Consultando ID: 59506\n",
      "ID 59506 no encontrado (404).\n",
      "Consultando ID: 59507\n",
      "ID 59507 no encontrado (404).\n",
      "Consultando ID: 59508\n",
      "ID 59508 no encontrado (404).\n",
      "Consultando ID: 59509\n",
      "ID 59509 no encontrado (404).\n",
      "Consultando ID: 59510\n",
      "ID 59510 no encontrado (404).\n",
      "Consultando ID: 59511\n",
      "ID 59511 no encontrado (404).\n",
      "Consultando ID: 59512\n",
      "ID 59512 no encontrado (404).\n",
      "Consultando ID: 59513\n",
      "ID 59513 no encontrado (404).\n",
      "\n",
      "Se han encontrado 10 respuestas vacías consecutivas. Deteniendo la ejecución.\n"
     ]
    }
   ],
   "source": [
    "log_file.write(\"\\n--- Bloque 1: Obteniendo datos desde API Nacional ---\\n\")\n",
    "id_inicial = 59500\n",
    "id_final = id_inicial + 10000\n",
    "resultados_df = obtener_datos_desde_api(id_inicial, id_final)\n",
    "log_file.write(f\"Se obtuvieron {len(resultados_df)} registros desde la API Nacional.\\n\")\n",
    "\n"
   ]
  },
  {
   "cell_type": "code",
   "execution_count": null,
   "metadata": {
    "executionInfo": {
     "elapsed": 3,
     "status": "ok",
     "timestamp": 1751998478475,
     "user": {
      "displayName": "Nicole Nuñez",
      "userId": "17651423384033710969"
     },
     "user_tz": 240
    },
    "id": "hYudDVgyRwys"
   },
   "outputs": [],
   "source": [
    "# Convertir a int, reemplazando NaN con un valor específico (por ejemplo, 0)\n",
    "log_file.write(\"\\n--- Bloque 2: Procesando y limpiando datos ---\\n\")\n",
    "resultados_df['rut'] = pd.to_numeric(resultados_df['rut'], errors='coerce').fillna(0).astype(int)\n",
    "resultados_df['idMedico'] = pd.to_numeric(resultados_df['idMedico'], errors='coerce').fillna(0).astype(int)"
   ]
  },
  {
   "cell_type": "code",
   "execution_count": null,
   "metadata": {
    "colab": {
     "base_uri": "https://localhost:8080/"
    },
    "executionInfo": {
     "elapsed": 19,
     "status": "ok",
     "timestamp": 1751998478496,
     "user": {
      "displayName": "Nicole Nuñez",
      "userId": "17651423384033710969"
     },
     "user_tz": 240
    },
    "id": "CIX_ExclvCdp",
    "outputId": "b4760f81-05e3-4836-cf1b-9dc0fbbe2721"
   },
   "outputs": [
    {
     "data": {
      "text/plain": [
       "134"
      ]
     },
     "execution_count": 6,
     "metadata": {},
     "output_type": "execute_result"
    }
   ],
   "source": [
    "# Asegurar que 'rut' sea un entero eliminando decimales y convirtiendo a string\n",
    "resultados_df['rut'] = resultados_df['rut'].astype('Int64').astype(str)\n",
    "resultados_df['idMedico'] = resultados_df['idMedico'].astype('Int64').astype(str)\n",
    "# Crear la columna con el formato correcto\n",
    "resultados_df['rut_dv'] = resultados_df['rut'] + '-' + resultados_df['dvrut'].astype(str)\n",
    "\n",
    "# Reemplazar 'k' por 'K' en rut\n",
    "resultados_df['rut_dv'] = resultados_df['rut_dv'].str.replace('k', 'K')\n",
    "#normalizar columna rut\n",
    "resultados_df['rut_normalizado'] = (\n",
    "    resultados_df['rut_dv'].str.replace(r'[\\s.,-]', '', regex=True).apply(agregar_guion).apply(eliminar_cero).astype(str))\n",
    "# Aplicar la función is_valid_rut y crear una nueva columna con los resultados\n",
    "resultados_df['rut_valido'] = resultados_df['rut_normalizado'].apply(validar_rut)\n",
    "# Filtrar las filas donde 'rut' es True\n",
    "df_rut_filtrado = resultados_df[resultados_df['rut_valido'] == True]\n",
    "log_file.write(f\"Procesamiento finalizado. Se encontraron {len(df_rut_filtrado)} registros con RUT válido.\\n\")\n",
    "#dataframe resultante\n",
    "cant_registros = len(df_rut_filtrado)\n",
    "cant_registros"
   ]
  },
  {
   "cell_type": "markdown",
   "metadata": {
    "id": "r0kXx3EovMIL"
   },
   "source": [
    "# **Creación de nuevos usuarios en Hubspot**"
   ]
  },
  {
   "cell_type": "code",
   "execution_count": null,
   "metadata": {
    "colab": {
     "base_uri": "https://localhost:8080/"
    },
    "executionInfo": {
     "elapsed": 33444,
     "status": "ok",
     "timestamp": 1751998511942,
     "user": {
      "displayName": "Nicole Nuñez",
      "userId": "17651423384033710969"
     },
     "user_tz": 240
    },
    "id": "JMgbm2ykvK7C",
    "outputId": "1d1f2e9e-9809-42a3-f9a5-7e70e597cc73"
   },
   "outputs": [
    {
     "name": "stdout",
     "output_type": "stream",
     "text": [
      "Contacto con RUT 19150868-8 ya existe\n",
      "Contacto con RUT 19792718-6 ya existe\n",
      "Contacto con RUT 19951495-4 ya existe\n",
      "Contacto con RUT 19686654-K ya existe\n",
      "Contacto con RUT 26202556-K ya existe\n",
      "Contacto con RUT 19672972-0 ya existe\n",
      "Contacto con RUT 19401307-8 ya existe\n",
      "Contacto con RUT 26598154-2 ya existe\n",
      "Contacto con RUT 18866230-7 ya existe\n",
      "Contacto con RUT 26622152-5 ya existe\n",
      "Contacto con RUT 19416194-8 ya existe\n",
      "Contacto con RUT 18932427-8 ya existe\n",
      "Contacto con RUT 27549450-K ya existe\n",
      "Contacto con RUT 20104142-2 ya existe\n",
      "Contacto con RUT 19891780-K ya existe\n",
      "Error al buscar contacto con RUT 18214450-9: 429\n",
      "{\"status\":\"error\",\"message\":\"You have reached your secondly limit.\",\"errorType\":\"RATE_LIMIT\",\"correlationId\":\"3dffaa99-1dfd-453d-9ab5-16d88a5f4dc8\",\"policyName\":\"SECONDLY\",\"groupName\":\"publicapi:crm:search:oauth:3628227:22173481\"}\n",
      "Contacto con RUT 27383700-0 ya existe\n",
      "Contacto con RUT 14152573-5 ya existe\n",
      "Contacto con RUT 28087182-6 ya existe\n",
      "Contacto con RUT 20567616-3 ya existe\n",
      "Contacto con RUT 27355451-3 ya existe\n",
      "Contacto con RUT 19763452-9 ya existe\n",
      "Contacto con RUT 19912345-9 ya existe\n",
      "Contacto con RUT 20287466-5 ya existe\n",
      "Contacto con RUT 19832330-6 ya existe\n",
      "Contacto con RUT 20179142-1 ya existe\n",
      "Contacto con RUT 19350517-1 ya existe\n",
      "Contacto con RUT 20161683-2 ya existe\n",
      "Contacto con RUT 20165894-2 ya existe\n",
      "Contacto con RUT 19956712-8 ya existe\n",
      "Contacto con RUT 26170478-1 ya existe\n",
      "Error al buscar contacto con RUT 26639197-8: 429\n",
      "{\"status\":\"error\",\"message\":\"You have reached your secondly limit.\",\"errorType\":\"RATE_LIMIT\",\"correlationId\":\"82619cfd-744c-4885-ae67-abf595e3bb40\",\"policyName\":\"SECONDLY\",\"groupName\":\"publicapi:crm:search:oauth:3628227:22173481\"}\n",
      "Contacto con RUT 19306047-1 ya existe\n",
      "Contacto con RUT 26407922-5 ya existe\n",
      "Contacto con RUT 19809058-1 ya existe\n",
      "Contacto con RUT 17322479-6 ya existe\n",
      "Contacto con RUT 18126124-2 ya existe\n",
      "Error al buscar contacto con RUT 20013972-0: 429\n",
      "{\"status\":\"error\",\"message\":\"You have reached your secondly limit.\",\"errorType\":\"RATE_LIMIT\",\"correlationId\":\"87632170-482f-48a6-8217-d719df801658\",\"policyName\":\"SECONDLY\",\"groupName\":\"publicapi:crm:search:oauth:3628227:22173481\"}\n",
      "Contacto con RUT 19696111-9 ya existe\n",
      "Contacto con RUT 19405447-5 ya existe\n",
      "Contacto con RUT 20283888-K ya existe\n",
      "Contacto con RUT 27176654-8 ya existe\n",
      "Contacto con RUT 20181236-4 ya existe\n",
      "Contacto con RUT 25421027-7 ya existe\n",
      "Contacto con RUT 20284068-K ya existe\n",
      "Contacto con RUT 25434300-5 ya existe\n",
      "Contacto con RUT 25813940-2 ya existe\n",
      "Contacto con RUT 25116069-4 ya existe\n",
      "Contacto con RUT 20274558-K ya existe\n",
      "Contacto con RUT 19699080-1 ya existe\n",
      "Contacto con RUT 28410821-3 ya existe\n",
      "Contacto con RUT 27185007-7 ya existe\n",
      "Contacto con RUT 19308039-1 ya existe\n",
      "Contacto con RUT 19816909-9 ya existe\n",
      "Contacto con RUT 19876314-4 ya existe\n",
      "Contacto con RUT 26695551-0 ya existe\n",
      "Contacto con RUT 19975725-3 ya existe\n",
      "Contacto con RUT 19293189-4 ya existe\n",
      "Contacto con RUT 19417485-3 ya existe\n",
      "Contacto con RUT 26092419-2 ya existe\n",
      "Contacto con RUT 27975874-9 ya existe\n",
      "Contacto con RUT 13528021-6 ya existe\n",
      "Contacto con RUT 27013486-6 ya existe\n",
      "Contacto con RUT 17393276-6 ya existe\n",
      "Error al buscar contacto con RUT 19995300-1: 429\n",
      "{\"status\":\"error\",\"message\":\"You have reached your secondly limit.\",\"errorType\":\"RATE_LIMIT\",\"correlationId\":\"ceb39fbe-1058-4d66-9d9c-af18cfdd9ff2\",\"policyName\":\"SECONDLY\",\"groupName\":\"publicapi:crm:search:oauth:3628227:22173481\"}\n",
      "Contacto con RUT 27905200-5 ya existe\n",
      "Contacto con RUT 19080307-4 ya existe\n",
      "Contacto con RUT 18734024-1 ya existe\n",
      "Contacto con RUT 19810153-2 ya existe\n",
      "Contacto 59439 creado exitosamente\n",
      "Contacto con RUT 20061291-4 ya existe\n",
      "Contacto con RUT 18873994-6 ya existe\n",
      "Contacto con RUT 19000984-K ya existe\n",
      "Contacto con RUT 20180519-8 ya existe\n",
      "Contacto con RUT 20212317-1 ya existe\n",
      "Contacto con RUT 20073739-3 ya existe\n",
      "Contacto con RUT 13623827-2 ya existe\n",
      "Contacto con RUT 17895993-K ya existe\n",
      "Contacto con RUT 28810233-3 ya existe\n",
      "Contacto con RUT 19826561-6 ya existe\n",
      "Contacto con RUT 26706378-8 ya existe\n",
      "Contacto con RUT 20022246-6 ya existe\n",
      "Contacto con RUT 19335228-6 ya existe\n",
      "Contacto con RUT 19373658-0 ya existe\n",
      "Contacto con RUT 28254223-4 ya existe\n",
      "Contacto con RUT 15626083-5 ya existe\n",
      "Contacto con RUT 19676936-6 ya existe\n",
      "Contacto 59457 creado exitosamente\n",
      "Contacto con RUT 20198534-K ya existe\n",
      "Contacto 59459 creado exitosamente\n",
      "Contacto con RUT 28644439-3 ya existe\n",
      "Contacto con RUT 27051629-7 ya existe\n",
      "Contacto con RUT 26480110-9 ya existe\n",
      "Contacto con RUT 15972020-9 ya existe\n",
      "Contacto con RUT 19944829-3 ya existe\n",
      "Contacto con RUT 26824258-9 ya existe\n",
      "Contacto con RUT 14376394-3 ya existe\n",
      "Contacto 59467 creado exitosamente\n",
      "Contacto con RUT 19078226-3 ya existe\n",
      "Contacto 59469 creado exitosamente\n",
      "Contacto 59470 creado exitosamente\n",
      "Contacto con RUT 19306742-5 ya existe\n",
      "Contacto con RUT 19981085-5 ya existe\n",
      "Contacto 59473 creado exitosamente\n",
      "Contacto con RUT 15008883-6 ya existe\n",
      "Contacto con RUT 19110850-7 ya existe\n",
      "Contacto 59476 creado exitosamente\n",
      "Contacto 59477 creado exitosamente\n",
      "Contacto con RUT 19742641-1 ya existe\n",
      "Contacto con RUT 26362383-5 ya existe\n",
      "Contacto con RUT 20442148-K ya existe\n",
      "Contacto 59481 creado exitosamente\n",
      "Contacto 59482 creado exitosamente\n",
      "Contacto con RUT 19347763-1 ya existe\n",
      "Contacto con RUT 20111827-1 ya existe\n",
      "Contacto con RUT 18459797-7 ya existe\n",
      "Contacto con RUT 25878690-4 ya existe\n",
      "Contacto con RUT 26170032-8 ya existe\n",
      "Contacto 59488 creado exitosamente\n",
      "Contacto con RUT 20169714-K ya existe\n",
      "Contacto 59490 creado exitosamente\n",
      "Contacto con RUT 20239154-0 ya existe\n",
      "Contacto con RUT 25132404-2 ya existe\n",
      "Contacto 59493 creado exitosamente\n",
      "Contacto 59494 creado exitosamente\n",
      "Contacto con RUT 27218330-9 ya existe\n",
      "Contacto con RUT 18810055-4 ya existe\n",
      "Contacto con RUT 18589723-0 ya existe\n",
      "Contacto 59498 creado exitosamente\n",
      "Contacto con RUT 26233418-K ya existe\n",
      "Contacto con RUT 6972747-6 ya existe\n",
      "Contacto con RUT 19758865-9 ya existe\n",
      "Contacto con RUT 20109749-5 ya existe\n",
      "Contacto con RUT 19798546-1 ya existe\n"
     ]
    }
   ],
   "source": [
    "log_file.write(\"\\n--- Bloque 3: Creando nuevos usuarios en HubSpot ---\\n\")\n",
    "\n",
    "# Se lee la API Key desde los secrets\n",
    "api_key = os.getenv('HUBSPOT_API_KEY')\n",
    "\n",
    "url_search = 'https://api.hubapi.com/crm/v3/objects/contacts/search'\n",
    "url_create = 'https://api.hubapi.com/crm/v3/objects/contacts'\n",
    "\n",
    "headers = {\n",
    "    'Authorization': f'Bearer {api_key}',\n",
    "    'Content-Type': 'application/json'\n",
    "}\n",
    "\n",
    "df = df_rut_filtrado\n",
    "total_a_procesar = len(df)\n",
    "log_file.write(f\"Iniciando verificación y creación de {total_a_procesar} contactos...\\n\")\n",
    "\n",
    "for index, row in df.iterrows():\n",
    "    rut = row['rut_normalizado']\n",
    "    search_data = {\n",
    "        \"filterGroups\": [{\"filters\": [{\"propertyName\": \"rut\", \"operator\": \"EQ\", \"value\": rut}]}]\n",
    "    }\n",
    "\n",
    "    search_response = requests.post(url_search, headers=headers, json=search_data)\n",
    "\n",
    "    if search_response.status_code == 200:\n",
    "        search_result = search_response.json()\n",
    "        if search_result['total'] == 0:\n",
    "            properties = {\n",
    "                \"rut\": row['rut_normalizado'],\n",
    "                \"firstname\": row['nombre1'],\n",
    "                \"segundo_nombre\": row['nombre2'],\n",
    "                \"lastname\": row['apePat'],\n",
    "                \"apellido_materno\": row['apeMat'],\n",
    "                \"rcm\": row['idMedico']\n",
    "            }\n",
    "            data = {\"properties\": properties}\n",
    "            create_response = requests.post(url_create, headers=headers, json=data)\n",
    "\n",
    "            if create_response.status_code == 201:\n",
    "                log_file.write(f\"({index+1}/{total_a_procesar}) Éxito: Contacto con ID Medico {row['idMedico']} creado.\\n\")\n",
    "            else:\n",
    "                log_file.write(f\"({index+1}/{total_a_procesar}) ERROR al crear contacto con RUT {rut}: {create_response.status_code} - {create_response.text}\\n\")\n",
    "        else:\n",
    "            log_file.write(f\"({index+1}/{total_a_procesar}) Omitido: Contacto con RUT {rut} ya existe.\\n\")\n",
    "    else:\n",
    "        log_file.write(f\"({index+1}/{total_a_procesar}) ERROR al buscar contacto con RUT {rut}: {search_response.status_code} - {search_response.text}\\n\")\n",
    "    \n",
    "    # --- ARREGLO: Pausa de medio segundo para evitar el Rate Limit ---\n",
    "    time.sleep(0.5)"
   ]
  },
  {
   "cell_type": "code",
   "execution_count": null,
   "metadata": {
    "colab": {
     "base_uri": "https://localhost:8080/"
    },
    "executionInfo": {
     "elapsed": 6,
     "status": "ok",
     "timestamp": 1751998511951,
     "user": {
      "displayName": "Nicole Nuñez",
      "userId": "17651423384033710969"
     },
     "user_tz": 240
    },
    "id": "EcTxSsAMrOYH",
    "outputId": "7a2e3192-8a3d-49d8-86ba-f58b0160d1c5"
   },
   "outputs": [
    {
     "name": "stdout",
     "output_type": "stream",
     "text": [
      "Tiempo total: 246.98 segundos\n",
      "Memoria total usada: 4.19 MB\n"
     ]
    }
   ],
   "source": [
    "mem_end = process.memory_info().rss\n",
    "end = time.time()\n",
    "\n",
    "log_file.write(\"\\n====================================================\\n\")\n",
    "log_file.write(\"== FIN DEL SCRIPT ==\\n\")\n",
    "log_file.write(f\"Tiempo total: {end - start:.2f} segundos\\n\")\n",
    "log_file.write(f\"Memoria total usada: {(mem_end - mem_start)/1024**2:.2f} MB\\n\")\n",
    "log_file.write(\"====================================================\\n\")\n",
    "\n",
    "# Se cierra el archivo para guardar los cambios.\n",
    "log_file.close()"
   ]
  }
 ],
 "metadata": {
  "colab": {
   "authorship_tag": "ABX9TyNVxKK+qPjkEFsPcADuoeA9",
   "provenance": []
  },
  "kernelspec": {
   "display_name": "Python 3",
   "name": "python3"
  },
  "language_info": {
   "name": "python"
  }
 },
 "nbformat": 4,
 "nbformat_minor": 0
}
