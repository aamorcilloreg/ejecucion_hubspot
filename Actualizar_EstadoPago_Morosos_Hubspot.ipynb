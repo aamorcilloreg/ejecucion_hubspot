{
 "cells": [
  {
   "cell_type": "code",
   "execution_count": null,
   "metadata": {
    "colab": {
     "base_uri": "https://localhost:8080/"
    },
    "executionInfo": {
     "elapsed": 24306,
     "status": "ok",
     "timestamp": 1751474459427,
     "user": {
      "displayName": "Nicole Nuñez",
      "userId": "17651423384033710969"
     },
     "user_tz": 240
    },
    "id": "pAIntzrq6woy",
    "outputId": "a6be4427-a770-4097-9866-cc531f79f1a4"
   },
   "outputs": [],
   "source": [
    "# Instalar paquetes\n",
    "!pip install hubspot-api-client\n",
    "!pip install rut_chile"
   ]
  },
  {
   "cell_type": "code",
   "execution_count": null,
   "metadata": {
    "executionInfo": {
     "elapsed": 897,
     "status": "ok",
     "timestamp": 1751474460349,
     "user": {
      "displayName": "Nicole Nuñez",
      "userId": "17651423384033710969"
     },
     "user_tz": 240
    },
    "id": "VlGYJ9Uw7rdd"
   },
   "outputs": [],
   "source": [
    "import requests\n",
    "from rut_chile import rut_chile as rc\n",
    "import pandas as pd\n",
    "import numpy as np\n",
    "import unicodedata\n",
    "import re\n",
    "import time\n",
    "from datetime import datetime, timedelta\n",
    "\n",
    "import time\n",
    "import psutil\n",
    "import os\n",
    "\n",
    "# Abrir archivo de log\n",
    "log_file = open(\"log.txt\", \"w\")\n",
    "log_file.write(\"--- INICIO DEL LOG ---\\n\")\n",
    "\n",
    "start = time.time()\n",
    "process = psutil.Process(os.getpid())\n",
    "mem_start = process.memory_info().rss\n",
    "# Guardar tiempo de inicio\n",
    "inicio = time.time()\n",
    "\n",
    "\n",
    "# Guardar tiempo de inicio\n",
    "inicio = time.time()\n",
    "\n",
    "# Función para validar rut\n",
    "def validar_rut(rut):\n",
    "    try:\n",
    "        return rc.is_valid_rut(rut)\n",
    "    except Exception as e:\n",
    "        return False\n",
    "\n",
    "def agregar_guion(valor):\n",
    "    if pd.notna(valor) and len(valor) > 1:\n",
    "        return valor[:-1] + '-' + valor[-1]\n",
    "    else:\n",
    "        return valor\n",
    "\n",
    "# Función para eliminar 0 al principio de una cadena\n",
    "def eliminar_cero(valor):\n",
    "    if isinstance(valor, str) and valor.startswith('0'):\n",
    "        return valor[1:]\n",
    "    return valor\n",
    "\n",
    "def consulta_api(id, access_token=None, identificador='rut'):\n",
    "    # Definir URL y variables según identificador\n",
    "    if identificador == 'rut':\n",
    "        url = f'https://medicocontratosinfo.colegiomedico.cl/api/MedicoContratos/byRut/{id}/true'\n",
    "    elif identificador == 'icm':\n",
    "        url = f'https://medicocontratosinfo.colegiomedico.cl/api/MedicoContratos/byICM/{id}/true'\n",
    "    elif identificador == 'direccion':\n",
    "        url = f'https://medicocontratosinfo.colegiomedico.cl/api/Direcciones/byICM/{id}'\n",
    "    elif identificador == 'datos_direccion':\n",
    "        url = f'https://medicocontratosinfo.colegiomedico.cl/api/Direcc/byICM/{id}'\n",
    "\n",
    "    # Obtener token si no se proporciona\n",
    "    if access_token is None:\n",
    "        access_token = autorizacion_api()\n",
    "\n",
    "    # Configurar encabezados\n",
    "    headers = {'Authorization': f'Bearer {access_token}'}\n",
    "\n",
    "    try:\n",
    "        # Realizar la solicitud\n",
    "        response = requests.get(url, headers=headers, timeout=10)\n",
    "        response.raise_for_status()  # Lanza una excepción para códigos HTTP >= 400\n",
    "\n",
    "    except requests.exceptions.HTTPError as http_err:\n",
    "        if response.status_code == 404:\n",
    "            return {\n",
    "                \"error\": \"Recurso no encontrado.\",\n",
    "                \"status\": 404,\n",
    "                \"detalle\": f\"No se encontró el recurso solicitado con ID: {id}. URL: {url}\"\n",
    "            }\n",
    "        elif response.status_code == 401:\n",
    "            return {\n",
    "                \"error\": \"No autorizado.\",\n",
    "                \"status\": 401,\n",
    "                \"detalle\": \"El token es inválido o ha expirado. Intenta obtener un nuevo token.\"\n",
    "            }\n",
    "        else:\n",
    "            return {\n",
    "                \"error\": f\"HTTP Error {response.status_code}\",\n",
    "                \"detalle\": response.text\n",
    "            }\n",
    "    except requests.exceptions.RequestException as req_err:\n",
    "        return {\n",
    "            \"error\": \"Error de conexión.\",\n",
    "            \"detalle\": str(req_err)\n",
    "        }\n",
    "\n",
    "    # Si no hay errores, retorna el contenido como JSON\n",
    "    return response.json()\n",
    "\n",
    "def autorizacion_api():\n",
    "    # URL de autenticación\n",
    "    url_auth = 'https://authentication.colegiomedico.cl/api/authentication/authenticate'\n",
    "\n",
    "    # Credenciales desde variables de entorno\n",
    "    user = 'UsersCRSantiago'  # Valor por defecto\n",
    "    psw = 'UsersCRSantiago2024_&_&'  # Valor por defecto\n",
    "\n",
    "    # Verificar credenciales\n",
    "    if not user or not psw:\n",
    "        raise ValueError(\"Las credenciales de usuario o contraseña no están configuradas.\")\n",
    "\n",
    "    # Datos de autenticación\n",
    "    data = {\"userName\": user, \"password\": psw}\n",
    "\n",
    "    # Encabezados\n",
    "    headers = {\"Content-Type\": \"application/json\"}\n",
    "\n",
    "    # Solicitar token\n",
    "    response_auth = requests.post(url_auth, headers=headers, json=data)\n",
    "\n",
    "    # Verificar respuesta\n",
    "    if response_auth.status_code != 200:\n",
    "        raise Exception(f\"Error al autenticar: {response_auth.status_code} - {response_auth.text}\")\n",
    "\n",
    "    # Retornar token\n",
    "    access_token = response_auth.text\n",
    "    return access_token.strip('\"')\n",
    "\n",
    "#recorrer la api del nacional desde un id_inical hasta un id_final\n",
    "def obtener_datos_desde_api(id_inicial, id_final, identificador='icm'):\n",
    "    resultados = []\n",
    "\n",
    "    for id_actual in range(id_inicial, id_final + 1):\n",
    "        try:\n",
    "            log_file.write(f\"Consultando ID: {id_actual}\\n\")\n",
    "            # Llama a la función consulta_api (definida previamente)\n",
    "            respuesta = consulta_api(str(id_actual), identificador=identificador)\n",
    "            resultados.append(respuesta)\n",
    "\n",
    "        except Exception as e:\n",
    "            log_file.write(f\"Error con ID {id_actual}: {e}\\n\")\n",
    "            continue\n",
    "\n",
    "    # Convertir resultados en un DataFrame\n",
    "    return pd.DataFrame(resultados)\n",
    "\n",
    "\n",
    "def limpiar_valor(valor):\n",
    "    \"\"\"Elimina caracteres especiales, convierte a minúsculas, y elimina tildes\"\"\"\n",
    "    # Eliminar tildes y acentos\n",
    "    valor_sin_tildes = unicodedata.normalize('NFKD', valor).encode('ASCII', 'ignore').decode('ASCII')\n",
    "    # Eliminar caracteres especiales\n",
    "    valor_limpio = re.sub(r'[^\\w\\s]', '', valor_sin_tildes)\n",
    "    return valor_limpio.replace(' ', '_').lower()\n",
    "\n",
    "# Función para validar email\n",
    "def es_correo_valido(email):\n",
    "    # Verificar si el email es NaN o vacío\n",
    "    if pd.isna(email) or email.strip() == '':\n",
    "        return False\n",
    "\n",
    "    # Patrón de la expresión regular para un email válido\n",
    "    patron = r'^[a-zA-Z0-9._%+-]+@[a-zA-Z0-9.-]+\\.[a-zA-Z]{2,}$'\n",
    "\n",
    "    # Usar re.match para comprobar si el email coincide con el patrón\n",
    "    if re.match(patron, email):\n",
    "        return True\n",
    "    else:\n",
    "        return False\n",
    "\n",
    "def obtener_direcciones(df_o_lista):\n",
    "    resultados = []\n",
    "    contador = 0  # Contador de consultas\n",
    "\n",
    "    # Verificar si la entrada es un DataFrame o una lista\n",
    "    if isinstance(df_o_lista, pd.DataFrame):\n",
    "        if 'idMedico' not in df_o_lista.columns:\n",
    "            log_file.write(\"Error: El DataFrame no contiene la columna 'idMedico'.\\n\")\n",
    "            return pd.DataFrame()\n",
    "        ids = df_o_lista['idMedico'].dropna().unique()\n",
    "    elif isinstance(df_o_lista, list):\n",
    "        ids = list(set(df_o_lista))  # Eliminar duplicados\n",
    "    else:\n",
    "        log_file.write(\"Error: La entrada debe ser un DataFrame o una lista de IDs.\\n\")\n",
    "        return pd.DataFrame()\n",
    "\n",
    "    total_ids = len(ids)\n",
    "    log_file.write(f\"Total de IDs a procesar: {total_ids}\\n\")\n",
    "\n",
    "    for id_medico in ids:\n",
    "        contador += 1  # Incrementa el contador por cada consulta\n",
    "\n",
    "        try:\n",
    "            datos = consulta_api(id_medico, identificador='direccion')\n",
    "        except Exception as e:\n",
    "            log_file.write(f\"Error en la consulta de ID {id_medico}: {e}\\n\")\n",
    "            continue\n",
    "\n",
    "        # Depuración: Mostrar progreso y datos recibidos\n",
    "        log_file.write(f\"Consulta {contador}/{total_ids} - ID: {id_medico}, Tipo de datos retornado: {type(datos)}\\n\")\n",
    "\n",
    "        if isinstance(datos, list):\n",
    "            resultados.extend(datos)\n",
    "        else:\n",
    "            log_file.write(f\"Advertencia: La API devolvió un {type(datos)} en lugar de una lista para ID {id_medico}\\n\")\n",
    "\n",
    "    # Convertir los resultados a un DataFrame si hay datos válidos\n",
    "    df_resultado_direcciones = pd.DataFrame(resultados) if resultados else pd.DataFrame()\n",
    "\n",
    "    log_file.write(f\"Consultas finalizadas. Total procesados: {contador}, Filas obtenidas: {df_resultado_direcciones.shape[0]}\\n\")\n",
    "\n",
    "    return df_resultado_direcciones\n",
    "\n",
    "# Función para determinar el valor de 'email_final' basado en las reglas dadas\n",
    "def determinar_email_final(row):\n",
    "    if row['email_nulo_o_vacio']:\n",
    "        return 'Nulo'\n",
    "    elif not row['email_valido']:\n",
    "        return 'Invalido'\n",
    "    elif row['email_duplicado']:\n",
    "        return 'Duplicado'\n",
    "    else:\n",
    "        return 'Valido'\n",
    "\n",
    "#obtengo información de la API del nacional a través del rut, entregandole un df y la columna con id\n",
    "def obtener_datos_desde_api_rut(df_ids, columna_id, identificador='rut'):\n",
    "    resultados = []\n",
    "    total_ids = len(df_ids)\n",
    "\n",
    "    for idx, id_actual in enumerate(df_ids[columna_id], start=1):\n",
    "        try:\n",
    "            # Llama a la función consulta_api (definida previamente)\n",
    "            respuesta = consulta_api(str(id_actual), identificador=identificador)\n",
    "            resultados.append(respuesta)\n",
    "\n",
    "            # Mostrar el progreso\n",
    "            log_file.write(f\"Procesando ID: {id_actual} ({idx}/{total_ids})\\n\")\n",
    "\n",
    "        except Exception as e:\n",
    "            log_file.write(f\"Error con ID {id_actual}: {e}\\n\")\n",
    "            continue\n",
    "\n",
    "    # Añadir una nueva línea al finalizar para evitar que el último mensaje de progreso\n",
    "    # sobrescriba el siguiente output en la consola\n",
    "    log_file.write(\"\\n\")\n",
    "\n",
    "    # Convertir resultados en un DataFrame\n",
    "    return pd.DataFrame(resultados)"
   ]
  },
  {
   "cell_type": "code",
   "execution_count": null,
   "metadata": {
    "executionInfo": {
     "elapsed": 183449,
     "status": "ok",
     "timestamp": 1751474643824,
     "user": {
      "displayName": "Nicole Nuñez",
      "userId": "17651423384033710969"
     },
     "user_tz": 240
    },
    "id": "MMk1Crg27k4G"
   },
   "outputs": [],
   "source": [
    "from hubspot import HubSpot\n",
    "from hubspot.crm.contacts.exceptions import ApiException\n",
    "import os\n",
    "\n",
    "api_client = HubSpot()\n",
    "api_client.access_token = os.getenv('HUBSPOT_API_KEY')\n",
    "\n",
    "#Especifica las propiedades que deseas recuperar\n",
    "properties = [ 'address','firstname','segundo_nombre', 'lastname','apellido_materno', 'condicion', 'createdate','crs',\n",
    "            'date_of_birth','direccion_de_trabajo','edad','email','estado_pago','fecha_inscripcion_al_colegio',\n",
    "'fecha_titulo','gender','graduation_date','mobilephone','rcm','rut', 'lastmodifieddate', 'lifecyclestage',\n",
    "              'phone','hs_object_source_label','especialidades','fecha_act_super','fecha_actualizacion_pagos','condicion_vital']\n",
    "\n",
    "try:\n",
    "    # Recupera todos los contactos con las propiedades especificadas\n",
    "    all_contacts = api_client.crm.contacts.get_all(properties=properties)\n",
    "\n",
    "    # Convierte cada contacto a un diccionario y almacenarlos en una lista\n",
    "    contacts_list = [contact.to_dict() for contact in all_contacts]\n",
    "\n",
    "    # Crear un DataFrame de pandas a partir de la lista de diccionarios\n",
    "    df_contacts = pd.DataFrame(contacts_list)\n",
    "\n",
    "except ApiException as e:\n",
    "    log_file.write(f\"Exception when calling contacts API: {e}\\n\")\n",
    "\n",
    "# Normalizar la columna que contiene diccionarios\n",
    "df_col_dict = pd.json_normalize(df_contacts['properties'])\n",
    "\n",
    "# Opcional: unir el DataFrame normalizado con el DataFrame original, excluyendo la columna original\n",
    "df_final_contactos = df_contacts.drop(columns=['properties']).join(df_col_dict)\n",
    "\n",
    "# Ordenar por 'Fecha de creación' (descendente) y 'Rut_Normalizado' (ascendente)\n",
    "df_final_contactos = df_final_contactos.sort_values(by=['createdate'], ascending = True)"
   ]
  },
  {
   "cell_type": "code",
   "execution_count": null,
   "metadata": {
    "executionInfo": {
     "elapsed": 916,
     "status": "ok",
     "timestamp": 1751474644744,
     "user": {
      "displayName": "Nicole Nuñez",
      "userId": "17651423384033710969"
     },
     "user_tz": 240
    },
    "id": "zw93mWBq7Xie"
   },
   "outputs": [],
   "source": [
    "#normalizar columna rut\n",
    "df_final_contactos['rut_normalizado'] = (\n",
    "    df_final_contactos['rut'].str.replace(r'[\\s.,-]', '', regex=True).apply(agregar_guion).apply(eliminar_cero).astype(str))\n",
    "\n",
    "# Aplicar la función is_valid_rut y crear una nueva columna con los resultados\n",
    "df_final_contactos['rut_valido'] = df_final_contactos['rut_normalizado'].apply(validar_rut)\n",
    "\n",
    "# Extraer el RUT sin el dígito verificador y agregarlo a una nueva columna usando\n",
    "df_final_contactos['rut_sdv'] = df_final_contactos['rut_normalizado'].str.split('-').str[0]\n",
    "\n",
    "# Filtrar las filas donde 'rut' es True\n",
    "df_rut_filtrado_crm = df_final_contactos[df_final_contactos['rut_valido'] == True]\n",
    "\n",
    "columnas_hubspot =['id','rut_normalizado','rut','rcm','rut_sdv','fecha_actualizacion_pagos','email','mobilephone','condicion_vital','created_at','estado_pago','condicion']\n",
    "df_hubspot = df_rut_filtrado_crm[columnas_hubspot]\n",
    "df_rut_filtrado_crm = df_rut_filtrado_crm[columnas_hubspot]"
   ]
  },
  {
   "cell_type": "code",
   "execution_count": null,
   "metadata": {
    "executionInfo": {
     "elapsed": 117,
     "status": "ok",
     "timestamp": 1751474644858,
     "user": {
      "displayName": "Nicole Nuñez",
      "userId": "17651423384033710969"
     },
     "user_tz": 240
    },
    "id": "MDcmyinLEPd2"
   },
   "outputs": [],
   "source": [
    "# Asegurarse de que la columna 'fecha_actualizacion_pagos' esté en formato de fecha\n",
    "df_rut_filtrado_crm['fecha_actualizacion_pagos'] = pd.to_datetime(df_rut_filtrado_crm['fecha_actualizacion_pagos'], format='%Y-%m-%d', errors='coerce')\n",
    "\n",
    "# Definir la fecha límite (30 días atrás)\n",
    "fecha_limite = datetime.now() - timedelta(days=30)\n",
    "\n",
    "#filtrar usuario vivos o sin condicion vital\n",
    "df_rut_filtrado_crm = df_rut_filtrado_crm[((df_rut_filtrado_crm['estado_pago'].isna()) | (df_rut_filtrado_crm['estado_pago'].fillna('') == 'Moroso')) & (df_rut_filtrado_crm['condicion_vital'] != 'FALLECIDO') & (df_rut_filtrado_crm['condicion'] == 'Afiliado') ]\n",
    "\n",
    "\n",
    "\n"
   ]
  },
  {
   "cell_type": "code",
   "execution_count": null,
   "metadata": {
    "executionInfo": {
     "elapsed": 10,
     "status": "ok",
     "timestamp": 1751474644859,
     "user": {
      "displayName": "Nicole Nuñez",
      "userId": "17651423384033710969"
     },
     "user_tz": 240
    },
    "id": "G2o7fvagGl0l"
   },
   "outputs": [],
   "source": [
    "df_ruts = df_rut_filtrado_crm"
   ]
  },
  {
   "cell_type": "code",
   "execution_count": null,
   "metadata": {
    "executionInfo": {
     "elapsed": 9,
     "status": "ok",
     "timestamp": 1751474644860,
     "user": {
      "displayName": "Nicole Nuñez",
      "userId": "17651423384033710969"
     },
     "user_tz": 240
    },
    "id": "If2v-k-taLg1"
   },
   "outputs": [],
   "source": [
    "import concurrent.futures\n",
    "import pandas as pd\n",
    "import sys\n",
    "\n",
    "def obtener_datos_desde_api_rut(df, columna_id, identificador='rut'):\n",
    "    resultados = []\n",
    "    total_ids = len(df)\n",
    "\n",
    "    def consultar_id(id_actual):\n",
    "        try:\n",
    "            resultado = consulta_api(str(id_actual), identificador=identificador)\n",
    "            log_file.write(f\"Procesado: {id_actual}\\n\")\n",
    "            return resultado\n",
    "        except Exception as e:\n",
    "            log_file.write(f\"Error con {id_actual}: {e}\\n\")\n",
    "            return None\n",
    "\n",
    "    with concurrent.futures.ThreadPoolExecutor(max_workers=30) as executor:\n",
    "        for i, resultado in enumerate(executor.map(consultar_id, df[columna_id])):\n",
    "            if resultado is not None:\n",
    "                resultados.append(resultado)\n",
    "\n",
    "            if i % 10 == 0 or i == total_ids - 1:  # Mostrar cada 10 registros\n",
    "                log_file.write(f\"Progreso: {i+1}/{total_ids} IDs procesados\\n\")\n",
    "\n",
    "    return pd.DataFrame(resultados)\n",
    "\n",
    "\n"
   ]
  },
  {
   "cell_type": "code",
   "execution_count": null,
   "metadata": {
    "colab": {
     "base_uri": "https://localhost:8080/"
    },
    "executionInfo": {
     "elapsed": 83602,
     "status": "ok",
     "timestamp": 1751474728456,
     "user": {
      "displayName": "Nicole Nuñez",
      "userId": "17651423384033710969"
     },
     "user_tz": 240
    },
    "id": "EIMUGjHOE8Sd",
    "outputId": "8557af6b-bca4-4245-ab2d-a7b88d05a443"
   },
   "outputs": [],
   "source": [
    "# Llamar a la función utilizando la columna 'id' como identificadores\n",
    "resultados_rut = obtener_datos_desde_api_rut(df_ruts, columna_id='rut_sdv')"
   ]
  },
  {
   "cell_type": "code",
   "execution_count": null,
   "metadata": {
    "executionInfo": {
     "elapsed": 54,
     "status": "ok",
     "timestamp": 1751474728521,
     "user": {
      "displayName": "Nicole Nuñez",
      "userId": "17651423384033710969"
     },
     "user_tz": 240
    },
    "id": "x1yGX_UQaQSX"
   },
   "outputs": [],
   "source": [
    "resultados_rut = resultados_rut[resultados_rut['rut'].notna()]"
   ]
  },
  {
   "cell_type": "code",
   "execution_count": null,
   "metadata": {
    "executionInfo": {
     "elapsed": 7,
     "status": "ok",
     "timestamp": 1751474728523,
     "user": {
      "displayName": "Nicole Nuñez",
      "userId": "17651423384033710969"
     },
     "user_tz": 240
    },
    "id": "Dw2GhluqG0Wm"
   },
   "outputs": [],
   "source": [
    "# Manejar valores nulos en la columna 'rut' (opcional)\n",
    "resultados_rut['rut'] = resultados_rut['rut'].fillna(0)  # Rellena nulos con 0\n",
    "resultados_rut['idMedico'] = resultados_rut['idMedico'].fillna(0)\n",
    "# Convertir la columna 'rut' a enteros\n",
    "resultados_rut['rut'] = resultados_rut['rut'].astype(int)\n",
    "resultados_rut['idMedico'] = resultados_rut['idMedico'].astype(int)\n",
    "# Guardar tiempo de inicio\n",
    "OBTENER_INFO = time.time()"
   ]
  },
  {
   "cell_type": "code",
   "execution_count": null,
   "metadata": {
    "colab": {
     "base_uri": "https://localhost:8080/",
     "height": 1000
    },
    "executionInfo": {
     "elapsed": 119,
     "status": "ok",
     "timestamp": 1751474728638,
     "user": {
      "displayName": "Nicole Nuñez",
      "userId": "17651423384033710969"
     },
     "user_tz": 240
    },
    "id": "D000ziglFijp",
    "outputId": "df35ebdd-4360-44a5-f217-e845b16a15b2"
   },
   "outputs": [],
   "source": [
    "resultados_rut"
   ]
  },
  {
   "cell_type": "code",
   "execution_count": null,
   "metadata": {
    "executionInfo": {
     "elapsed": 148,
     "status": "ok",
     "timestamp": 1751474728783,
     "user": {
      "displayName": "Nicole Nuñez",
      "userId": "17651423384033710969"
     },
     "user_tz": 240
    },
    "id": "_epkuuX1HFgn"
   },
   "outputs": [],
   "source": [
    "resultados_rut.rename(columns={'rut': 'rut_sdv'}, inplace=True)\n",
    "df_hubspot.rename(columns={'rut_sdv': 'rut_sdv'}, inplace=True)\n",
    "\n",
    "resultados_rut['rut_sdv'] = resultados_rut['rut_sdv'].astype(str)\n",
    "df_hubspot['rut_sdv'] = df_hubspot['rut_sdv'].astype(str)\n",
    "\n",
    "df_cruce = pd.merge(resultados_rut, df_hubspot, on='rut_sdv', how='inner')\n",
    "\n",
    "# reemplazar nan con vacio\n",
    "df_cargainformacion = df_cruce.fillna('')"
   ]
  },
  {
   "cell_type": "code",
   "execution_count": null,
   "metadata": {
    "colab": {
     "base_uri": "https://localhost:8080/",
     "height": 617
    },
    "executionInfo": {
     "elapsed": 24,
     "status": "ok",
     "timestamp": 1751474728805,
     "user": {
      "displayName": "Nicole Nuñez",
      "userId": "17651423384033710969"
     },
     "user_tz": 240
    },
    "id": "GcBaz0UyI8NK",
    "outputId": "5b76bd54-ea35-46f1-94b0-4a3f7c7b8309"
   },
   "outputs": [],
   "source": [
    "df_cargainformacion"
   ]
  },
  {
   "cell_type": "markdown",
   "metadata": {
    "id": "oD0RMPbZJBhP"
   },
   "source": [
    "OPCIONES REGIONAL Y PAIS DE EJERCICIO"
   ]
  },
  {
   "cell_type": "code",
   "execution_count": null,
   "metadata": {
    "colab": {
     "base_uri": "https://localhost:8080/"
    },
    "executionInfo": {
     "elapsed": 10,
     "status": "ok",
     "timestamp": 1751474728828,
     "user": {
      "displayName": "Nicole Nuñez",
      "userId": "17651423384033710969"
     },
     "user_tz": 240
    },
    "id": "BZ8xqWt_JDAQ",
    "outputId": "77ac26bf-e3aa-45a0-f82c-bf8ac63b5d41"
   },
   "outputs": [],
   "source": [
    "# Filtrar valores que no sean NaN y que sean de tipo string\n",
    "opciones_regional = sorted([x for x in resultados_rut['descConsejoRegional'].unique() if isinstance(x, str) and x is not np.nan])\n",
    "\n",
    "#Generar opciones para regionales\n",
    "opciones_regional = [{\"label\": item, \"value\": limpiar_valor(item)} for item in opciones_regional]\n",
    "\n",
    "\n",
    "opciones_pais = sorted([x for x in resultados_rut['descPaisDeEjercicio'].unique() if isinstance(x, str) and x is not np.nan])\n",
    "#Generar opciones para pais\n",
    "\n",
    "opciones_pais = [{\"label\": item, \"value\": limpiar_valor(item)} for item in opciones_pais]\n",
    "\n",
    "opciones_pais"
   ]
  },
  {
   "cell_type": "code",
   "execution_count": null,
   "metadata": {
    "colab": {
     "base_uri": "https://localhost:8080/"
    },
    "executionInfo": {
     "elapsed": 556,
     "status": "ok",
     "timestamp": 1751474729385,
     "user": {
      "displayName": "Nicole Nuñez",
      "userId": "17651423384033710969"
     },
     "user_tz": 240
    },
    "id": "Ak8mx6MWJFLD",
    "outputId": "ec455ab1-20c4-4bdf-c56b-2f3c3aa85929"
   },
   "outputs": [],
   "source": [
    "##actualizar y crear opciones regionales\n",
    "\n",
    "from hubspot import HubSpot\n",
    "from hubspot.crm.properties import ApiException, PropertyUpdate, Option\n",
    "import os\n",
    "\n",
    "# Token de acceso\n",
    "access_token = os.getenv('HUBSPOT_API_KEY')\n",
    "\n",
    "# Inicializar el cliente de HubSpot\n",
    "api_client = HubSpot(access_token=access_token)\n",
    "\n",
    "# Nombre de la propiedad\n",
    "property_name = 'afiliacion_regional'\n",
    "\n",
    "# Nuevas opciones a agregar (asegúrate de que la variable opciones esté definida)\n",
    "nuevas_opciones = opciones_regional\n",
    "\n",
    "try:\n",
    "    # Obtener la propiedad actual\n",
    "    properties_api = api_client.crm.properties\n",
    "    property_data = properties_api.core_api.get_by_name(object_type='contacts', property_name=property_name)\n",
    "\n",
    "    # Obtener opciones actuales\n",
    "    current_options = property_data.options if property_data.options else []\n",
    "\n",
    "    # Crear un conjunto de valores existentes para evitar duplicados\n",
    "    valores_existentes = {option.value for option in current_options}\n",
    "\n",
    "    # Añadir nuevas opciones a las opciones existentes\n",
    "    for option in nuevas_opciones:\n",
    "        if option['value'] not in valores_existentes:\n",
    "            new_option = Option(label=option['label'], value=option['value'])\n",
    "            current_options.append(new_option)\n",
    "            valores_existentes.add(option['value'])  # Actualizar el conjunto de valores existentes\n",
    "            log_file.write(f\"{option}\\n\")\n",
    "    # Preparar datos para la actualización\n",
    "    update_data = PropertyUpdate(\n",
    "        label=property_data.label,\n",
    "        options=current_options,\n",
    "        group_name=property_data.group_name,\n",
    "        type=property_data.type,\n",
    "        field_type=property_data.field_type    )\n",
    "\n",
    "    # Actualizar la propiedad\n",
    "    properties_api.core_api.update(object_type='contacts', property_name=property_name, property_update=update_data)\n",
    "\n",
    "    log_file.write(\"Propiedad actualizada con éxito\\n\")\n",
    "\n",
    "except ApiException as e:\n",
    "    log_file.write(f\"Error al conectar con la API de HubSpot: {e}\\n\")\n",
    "except Exception as e:\n",
    "    log_file.write(f\"Error inesperado: {e}\\n\")"
   ]
  },
  {
   "cell_type": "code",
   "execution_count": null,
   "metadata": {
    "colab": {
     "base_uri": "https://localhost:8080/"
    },
    "executionInfo": {
     "elapsed": 620,
     "status": "ok",
     "timestamp": 1751474730001,
     "user": {
      "displayName": "Nicole Nuñez",
      "userId": "17651423384033710969"
     },
     "user_tz": 240
    },
    "id": "0zRYrt3vJH0_",
    "outputId": "7b5ef311-1a09-4680-f54e-6019ae4e5df2"
   },
   "outputs": [],
   "source": [
    "##actualizar y crear opciones pais\n",
    "\n",
    "from hubspot import HubSpot\n",
    "from hubspot.crm.properties import ApiException, PropertyUpdate, Option\n",
    "import os\n",
    "\n",
    "# Token de acceso\n",
    "access_token = os.getenv('HUBSPOT_API_KEY')\n",
    "\n",
    "# Inicializar el cliente de HubSpot\n",
    "api_client = HubSpot(access_token=access_token)\n",
    "\n",
    "# Nombre de la propiedad\n",
    "property_name = 'pais_ejercicio'\n",
    "\n",
    "# Nuevas opciones a agregar (asegúrate de que la variable opciones esté definida)\n",
    "nuevas_opciones = opciones_pais\n",
    "\n",
    "try:\n",
    "    # Obtener la propiedad actual\n",
    "    properties_api = api_client.crm.properties\n",
    "    property_data = properties_api.core_api.get_by_name(object_type='contacts', property_name=property_name)\n",
    "\n",
    "    # Obtener opciones actuales\n",
    "    current_options = property_data.options if property_data.options else []\n",
    "\n",
    "    # Crear un conjunto de valores existentes para evitar duplicados\n",
    "    valores_existentes = {option.value for option in current_options}\n",
    "\n",
    "    # Añadir nuevas opciones a las opciones existentes\n",
    "    for option in nuevas_opciones:\n",
    "        if option['value'] not in valores_existentes:\n",
    "            new_option = Option(label=option['label'], value=option['value'])\n",
    "            current_options.append(new_option)\n",
    "            valores_existentes.add(option['value'])  # Actualizar el conjunto de valores existentes\n",
    "            log_file.write(f\"{option}\\n\")\n",
    "    # Preparar datos para la actualización\n",
    "    update_data = PropertyUpdate(\n",
    "        label=property_data.label,\n",
    "        options=current_options,\n",
    "        group_name=property_data.group_name,\n",
    "        type=property_data.type,\n",
    "        field_type=property_data.field_type    )\n",
    "\n",
    "    # Actualizar la propiedad\n",
    "    properties_api.core_api.update(object_type='contacts', property_name=property_name, property_update=update_data)\n",
    "\n",
    "    log_file.write(\"Propiedad actualizada con éxito\\n\")\n",
    "\n",
    "except ApiException as e:\n",
    "    log_file.write(f\"Error al conectar con la API de HubSpot: {e}\\n\")\n",
    "except Exception as e:\n",
    "    log_file.write(f\"Error inesperado: {e}\\n\")"
   ]
  },
  {
   "cell_type": "code",
   "execution_count": null,
   "metadata": {
    "executionInfo": {
     "elapsed": 5,
     "status": "ok",
     "timestamp": 1751474730003,
     "user": {
      "displayName": "Nicole Nuñez",
      "userId": "17651423384033710969"
     },
     "user_tz": 240
    },
    "id": "9-xhSHzvJT2d"
   },
   "outputs": [],
   "source": [
    "# Crear un mapeo para normalizar valores\n",
    "mapeo_estado_civil = {\n",
    "    None: '',  # Opcional: Define qué hacer con None\n",
    "    float('nan'): '',  # Manejo explícito de NaN\n",
    "    '...': '',  # Corregir valores inválidos\n",
    "    'SOLTERA(O)': 'SOLTERA(O)',  # Valores válidos\n",
    "    'CASADA(O)': 'CASADA(O)',\n",
    "    'VIUDA(O)': 'VIUDA(O)'}# Valores válidos}\n",
    "\n",
    "# Aplicar mapeo a la columna estado_civil\n",
    "df_cargainformacion['descEstadoCivil'] = df_cargainformacion['descEstadoCivil'].map(mapeo_estado_civil)\n",
    "# reemplazar nan con vacio\n",
    "df_cargainformacion = df_cargainformacion.fillna('')\n",
    "\n",
    "# Aplicar la función limpiar_valor solo a los valores que no son NaN\n",
    "df_cargainformacion['descPaisDeEjercicio'] = df_cargainformacion['descPaisDeEjercicio'].apply(lambda x: limpiar_valor(x) if pd.notna(x) else x)\n",
    "df_cargainformacion['descConsejoRegional'] = df_cargainformacion['descConsejoRegional'].apply(lambda x: limpiar_valor(x) if pd.notna(x) else x)\n",
    "\n"
   ]
  },
  {
   "cell_type": "code",
   "execution_count": null,
   "metadata": {
    "colab": {
     "base_uri": "https://localhost:8080/"
    },
    "executionInfo": {
     "elapsed": 405598,
     "status": "ok",
     "timestamp": 1751475135602,
     "user": {
      "displayName": "Nicole Nuñez",
      "userId": "17651423384033710969"
     },
     "user_tz": 240
    },
    "id": "CqWzTGX2JVbW",
    "outputId": "346079b2-e978-475a-f448-9b9c07f2d983"
   },
   "outputs": [],
   "source": [
    "#Actualizar información\n",
    "\n",
    "import requests\n",
    "import os\n",
    "\n",
    "# Configura tu API Key de HubSpot\n",
    "api_key = os.getenv('HUBSPOT_API_KEY')\n",
    "\n",
    "# Supongamos que tienes un DataFrame 'df_contactos' con las columnas: 'id', 'firstname', 'segundo_nombre', 'lastname', 'apellido_materno'\n",
    "df_contactos = df_cargainformacion\n",
    "\n",
    "\n",
    "# Define los headers\n",
    "headers = {\n",
    "    'Content-Type': 'application/json',\n",
    "    'Authorization': f'Bearer {api_key}'\n",
    "}\n",
    "\n",
    "# Itera sobre cada fila del DataFrame para actualizar el contacto en HubSpot\n",
    "contador = 0\n",
    "for index, row in df_contactos.iterrows():\n",
    "    contact_id = row['id']\n",
    "    data = {\n",
    "        \"properties\": {\n",
    "            \"condicion_vital\": row['descCondicionVital'],\n",
    "            \"gender\": row['descSexo'],\n",
    "            \"afiliacion_regional\": row['descConsejoRegional'],\n",
    "            \"marital_status\": row['descEstadoCivil'],\n",
    "            \"pais_ejercicio\": row['descPaisDeEjercicio']\n",
    "        }\n",
    "    }\n",
    "\n",
    "    # Define la URL de la API de HubSpot para actualizar un contacto\n",
    "    url = f'https://api.hubapi.com/crm/v3/objects/contacts/{contact_id}'\n",
    "\n",
    "    # Realiza la solicitud PATCH para actualizar el contacto\n",
    "    response = requests.patch(url, headers=headers, json=data)\n",
    "\n",
    "    # Verifica la respuesta\n",
    "    if response.status_code == 200:\n",
    "        log_file.write(f\"Contacto con ID {contact_id} actualizado exitosamente. \\n\")\n",
    "    else:\n",
    "        log_file.write(f'Error al actualizar el contacto con ID {contact_id}: {response.status_code}\\n')\n",
    "        log_file.write(f\"{response.text}\\n\")\n",
    "    contador += 1\n",
    "    # Mostrar el progreso en la misma línea\n",
    "    log_file.write(f\"Progreso: {contador}/{len(df_contactos)}\\n\")\n",
    "contador = 0 # arreglar el largo del string"
   ]
  },
  {
   "cell_type": "code",
   "execution_count": null,
   "metadata": {
    "executionInfo": {
     "elapsed": 33,
     "status": "ok",
     "timestamp": 1751475135640,
     "user": {
      "displayName": "Nicole Nuñez",
      "userId": "17651423384033710969"
     },
     "user_tz": 240
    },
    "id": "x9Nl2vcktblA"
   },
   "outputs": [],
   "source": [
    "columnas_x = [col for col in df_cargainformacion.columns if col.endswith('_x')]\n",
    "columnas_y = [col for col in df_cargainformacion.columns if col[:-2] + '_y' in df_cargainformacion.columns]\n",
    "\n",
    "for col_x in columnas_x:\n",
    "    col_base = col_x[:-2]  # Nombre sin _x\n",
    "    df_cargainformacion[col_base] = df_cargainformacion[col_x]  # Copia valores\n",
    "\n",
    "df_cargainformacion.drop(columns=columnas_x + columnas_y, inplace=True, errors='ignore')"
   ]
  },
  {
   "cell_type": "code",
   "execution_count": null,
   "metadata": {
    "colab": {
     "base_uri": "https://localhost:8080/",
     "height": 617
    },
    "executionInfo": {
     "elapsed": 26,
     "status": "ok",
     "timestamp": 1751475135685,
     "user": {
      "displayName": "Nicole Nuñez",
      "userId": "17651423384033710969"
     },
     "user_tz": 240
    },
    "id": "nXHNtPsYzYdo",
    "outputId": "2b346e3c-6ce9-4c80-ce5e-534c19863ede"
   },
   "outputs": [],
   "source": [
    "df_cargainformacion"
   ]
  },
  {
   "cell_type": "markdown",
   "metadata": {
    "id": "eKL70P2JJgVb"
   },
   "source": [
    "Informacion Dinamica"
   ]
  },
  {
   "cell_type": "code",
   "execution_count": null,
   "metadata": {
    "executionInfo": {
     "elapsed": 2095,
     "status": "ok",
     "timestamp": 1751475137787,
     "user": {
      "displayName": "Nicole Nuñez",
      "userId": "17651423384033710969"
     },
     "user_tz": 240
    },
    "id": "eu_9F7RstzBy"
   },
   "outputs": [],
   "source": [
    "\n",
    "df_cargainformacion = df_cargainformacion.dropna(subset=['contratos'])  # Eliminar NaN antes de expandir\n",
    "df_cargainformacion = df_cargainformacion[df_cargainformacion['contratos'].apply(lambda x: isinstance(x, list))]\n",
    "\n",
    "df_expandido = df_cargainformacion.explode('contratos')\n",
    "df_expandido = pd.concat([df_expandido.drop(columns=['contratos']), df_expandido['contratos'].apply(pd.Series)], axis=1)"
   ]
  },
  {
   "cell_type": "code",
   "execution_count": null,
   "metadata": {
    "colab": {
     "base_uri": "https://localhost:8080/",
     "height": 478
    },
    "executionInfo": {
     "elapsed": 182,
     "status": "ok",
     "timestamp": 1751475137973,
     "user": {
      "displayName": "Nicole Nuñez",
      "userId": "17651423384033710969"
     },
     "user_tz": 240
    },
    "id": "DWwThvVCzhKj",
    "outputId": "56567325-553c-4c3b-919b-7369bf165a36"
   },
   "outputs": [],
   "source": [
    "df_expandido"
   ]
  },
  {
   "cell_type": "code",
   "execution_count": null,
   "metadata": {
    "executionInfo": {
     "elapsed": 118,
     "status": "ok",
     "timestamp": 1751475137977,
     "user": {
      "displayName": "Nicole Nuñez",
      "userId": "17651423384033710969"
     },
     "user_tz": 240
    },
    "id": "U-Bavo1zt-VY"
   },
   "outputs": [],
   "source": [
    "df_expandido = df_expandido.loc[:, ~df_expandido.columns.duplicated()]"
   ]
  },
  {
   "cell_type": "code",
   "execution_count": null,
   "metadata": {
    "colab": {
     "base_uri": "https://localhost:8080/",
     "height": 458
    },
    "executionInfo": {
     "elapsed": 83,
     "status": "ok",
     "timestamp": 1751475137982,
     "user": {
      "displayName": "Nicole Nuñez",
      "userId": "17651423384033710969"
     },
     "user_tz": 240
    },
    "id": "JMzfi94m0BnQ",
    "outputId": "161879ea-b5bb-4be2-c383-ee07a6ea1aca"
   },
   "outputs": [],
   "source": [
    "df_expandido['descEstadoPago']"
   ]
  },
  {
   "cell_type": "code",
   "execution_count": null,
   "metadata": {
    "colab": {
     "base_uri": "https://localhost:8080/"
    },
    "executionInfo": {
     "elapsed": 82,
     "status": "ok",
     "timestamp": 1751475138053,
     "user": {
      "displayName": "Nicole Nuñez",
      "userId": "17651423384033710969"
     },
     "user_tz": 240
    },
    "id": "2qNKadgHJYV6",
    "outputId": "16dd0b98-b4ea-425e-b4dd-5fdaee9f19c9"
   },
   "outputs": [],
   "source": [
    "df_expandido.rename(columns={'idMedico': 'idMedico'}, inplace=True)\n",
    "df_hubspot.rename(columns={'rcm': 'idMedico'}, inplace=True)\n",
    "\n",
    "df_expandido['idMedico'] = df_expandido['idMedico'].astype(str)\n",
    "df_hubspot['idMedico'] = df_hubspot['idMedico'].astype(str)\n",
    "\n",
    "df_cruce_pagos = pd.merge(df_expandido, df_hubspot, on='idMedico', how='inner')\n",
    "\n",
    "columnas_df = ['idMedico','descEstamento', 'descCondicionSocio', 'fechaInscripcion',\n",
    "               'descEstadoPago','id']\n",
    "df_expandido = df_expandido[columnas_df]\n",
    "#df_expandido['descEstadoPago'].unique()\n",
    "\n",
    "\n",
    "# Crear un mapeo para normalizar valores\n",
    "mapeo_estado_pago = {\n",
    "    'AL DIA': 'Al día',  # Corregir valores inválidos\n",
    "    'LIBERADO': 'Liberado',  # Valores válidos\n",
    "    'LIBERADO DIRECTORIO FALMED': 'Liberado',\n",
    "    'FALMED SENIOR LIBERADO': 'Liberado',\n",
    "    'MOROSO12': 'Moroso',\n",
    "    'MOROSO' : 'Moroso',\n",
    "    'None' : ''}# Valores válidos\n",
    "\n",
    "# Aplicar mapeo a la columna estado_civil\n",
    "df_expandido['descEstadoPago'] = df_expandido['descEstadoPago'].map(mapeo_estado_pago)\n",
    "\n",
    "# Crear un mapeo para normalizar valores\n",
    "mapeo_condicion_socio = {\n",
    "    'AFILIADO': 'Afiliado',  # Corregir valores inválidos\n",
    "    'DESAFILIADO': 'Desafiliado',  # Valores válidos\n",
    "    'RENUNCIADO': 'Renunciado',\n",
    "    'REINSCRITO': 'Afiliado',\n",
    "    'None' : ''}# Valores válidos\n",
    "\n",
    "# Aplicar mapeo a la columna estado_civil\n",
    "df_expandido['descCondicionSocio'] = df_expandido['descCondicionSocio'].map(mapeo_condicion_socio)\n",
    "# Convertir la columna 'rut' a enteros\n",
    "#df_expandido['idMedico'] = df_expandido['idMedico'].astype(int)\n",
    "df_expandido['idMedico'].unique()\n",
    "# Conversión directa a int con manejo de errores\n",
    "df_expandido['idMedico'] = pd.to_numeric(df_expandido['idMedico'], errors='coerce').astype('Int64')\n",
    "df_expandido_final = df_expandido.drop_duplicates(subset=[\"idMedico\", \"descEstamento\"], keep=\"last\")\n"
   ]
  },
  {
   "cell_type": "code",
   "execution_count": null,
   "metadata": {
    "colab": {
     "base_uri": "https://localhost:8080/",
     "height": 478
    },
    "executionInfo": {
     "elapsed": 65,
     "status": "ok",
     "timestamp": 1751475138140,
     "user": {
      "displayName": "Nicole Nuñez",
      "userId": "17651423384033710969"
     },
     "user_tz": 240
    },
    "id": "qS2c3kDl0jlc",
    "outputId": "f272c5ac-a44f-4f24-d5ae-3bced45bf630"
   },
   "outputs": [],
   "source": [
    "df_expandido_final"
   ]
  },
  {
   "cell_type": "code",
   "execution_count": null,
   "metadata": {
    "colab": {
     "base_uri": "https://localhost:8080/",
     "height": 528
    },
    "executionInfo": {
     "elapsed": 47,
     "status": "ok",
     "timestamp": 1751475138194,
     "user": {
      "displayName": "Nicole Nuñez",
      "userId": "17651423384033710969"
     },
     "user_tz": 240
    },
    "id": "3YO194zjJm0j",
    "outputId": "5a02415d-53bc-4213-b670-b94eaaa3b721"
   },
   "outputs": [],
   "source": [
    "# Convertir la columna 'fecha_antecedente' al formato datetime\n",
    "df_expandido_final['fechaInscripcion'] = pd.to_datetime(df_expandido_final['fechaInscripcion'], format='%d-%m-%Y')\n",
    "df_expandido_final"
   ]
  },
  {
   "cell_type": "code",
   "execution_count": null,
   "metadata": {
    "executionInfo": {
     "elapsed": 23,
     "status": "ok",
     "timestamp": 1751475138222,
     "user": {
      "displayName": "Nicole Nuñez",
      "userId": "17651423384033710969"
     },
     "user_tz": 240
    },
    "id": "DYm9Fj7eJqO0"
   },
   "outputs": [],
   "source": [
    "# Transformar el DataFrame: filas -> columnas\n",
    "df_expandido_final = df_expandido_final.reset_index()\n",
    "df_expandido_final = df_expandido_final.pivot(index='idMedico', columns='descEstamento', values=[\"descCondicionSocio\", \"fechaInscripcion\", \"descEstadoPago\",\"id\"])\n",
    "# Ajustar nombres de las columnas\n",
    "#df_expandido_final.columns = ['_'.join(col).strip() for col in df_expandido_final.columns.values]\n",
    "df_expandido_final.columns = ['_'.join(map(str, col)).strip() for col in df_expandido_final.columns.values]\n",
    "\n",
    "df_expandido_final.reset_index(inplace=True)\n"
   ]
  },
  {
   "cell_type": "code",
   "execution_count": null,
   "metadata": {
    "colab": {
     "base_uri": "https://localhost:8080/",
     "height": 461
    },
    "executionInfo": {
     "elapsed": 51,
     "status": "ok",
     "timestamp": 1751475138276,
     "user": {
      "displayName": "Nicole Nuñez",
      "userId": "17651423384033710969"
     },
     "user_tz": 240
    },
    "id": "kk-NfD4LvzST",
    "outputId": "c4109ec2-0471-4e3b-b138-712782fc2b31"
   },
   "outputs": [],
   "source": [
    "df_expandido_final"
   ]
  },
  {
   "cell_type": "code",
   "execution_count": null,
   "metadata": {
    "colab": {
     "base_uri": "https://localhost:8080/",
     "height": 461
    },
    "executionInfo": {
     "elapsed": 63,
     "status": "ok",
     "timestamp": 1751475138335,
     "user": {
      "displayName": "Nicole Nuñez",
      "userId": "17651423384033710969"
     },
     "user_tz": 240
    },
    "id": "ujWgpdWGJ8Tm",
    "outputId": "c11d8595-0b02-41f6-83b3-b839453d66d3"
   },
   "outputs": [],
   "source": [
    "# crear nuevo valor para fecha_actualizacion pago\n",
    "\n",
    "\n",
    "df_expandido_final['fecha_actualizacion_pagos'] = pd.to_datetime('today').normalize()\n",
    "\n",
    "\n",
    "# Convertir la columna 'fecha_antecedente' al formato datetime\n",
    "df_expandido_final['fechaInscripcion_COLEGIO'] = pd.to_datetime(df_expandido_final['fechaInscripcion_COLEGIO'], format='%d-%m-%Y')\n",
    "df_expandido_final['fecha_actualizacion_pagos'] = pd.to_datetime(df_expandido_final['fecha_actualizacion_pagos'], format='%d-%m-%Y')\n",
    "\n",
    "# Convertir el Timestamp a un string en el formato adecuado\n",
    "df_expandido_final['fecha_actualizacion_pagos'] = df_expandido_final['fecha_actualizacion_pagos'].apply(lambda x: x.strftime('%Y-%m-%d') if pd.notnull(x) else None)\n",
    "df_expandido_final['fechaInscripcion_COLEGIO'] = df_expandido_final['fechaInscripcion_COLEGIO'].apply(lambda x: x.strftime('%Y-%m-%d') if pd.notnull(x) else None)\n",
    "# Reemplazar los NaN en la columna 'afiliacion_regional' por \"\"\n",
    "if 'descCondicionSocio_CLUB CAMPO' not in df_expandido_final.columns:\n",
    "    df_expandido_final['descCondicionSocio_CLUB CAMPO'] = np.nan  # O cualquier valor que desees para la columna vacía\n",
    "if 'descEstadoPago_CLUB CAMPO' not in df_expandido_final.columns:\n",
    "    df_expandido_final['descEstadoPago_CLUB CAMPO'] = np.nan\n",
    "if 'descCondicionSocio_FATMED' not in df_expandido_final.columns:\n",
    "    df_expandido_final['descCondicionSocio_FATMED'] = np.nan  # O cualquier valor que desees para la columna vacía\n",
    "if 'descEstadoPago_FATMED' not in df_expandido_final.columns:\n",
    "    df_expandido_final['descEstadoPago_FATMED'] = np.nan\n",
    "\n",
    "df_expandido_final['descCondicionSocio_CLUB CAMPO'] = df_expandido_final['descCondicionSocio_CLUB CAMPO'].fillna(\"SIN_AFILIACION\")\n",
    "df_expandido_final['descEstadoPago_CLUB CAMPO'] = df_expandido_final['descEstadoPago_CLUB CAMPO'].fillna(\"SIN_AFILIACION\")\n",
    "# Reemplazar \"Al Dia\" por \"Al día\" en la columna 'estado_pago'\n",
    "df_expandido_final['descEstadoPago_CLUB CAMPO'] = df_expandido_final['descEstadoPago_CLUB CAMPO'].str.replace('Al día', 'AL_DIA', regex=False)\n",
    "df_expandido_final['descEstadoPago_CLUB CAMPO'] = df_expandido_final['descEstadoPago_CLUB CAMPO'].str.upper()\n",
    "df_expandido_final['descCondicionSocio_CLUB CAMPO'] = df_expandido_final['descCondicionSocio_CLUB CAMPO'].str.upper()\n",
    "\n",
    "# Ajustar opciones de pago de otras afiliaciones\n",
    "df_expandido_final['descEstadoPago_FSG'] = df_expandido_final['descEstadoPago_FSG'].apply(lambda x: limpiar_valor(x) if pd.notna(x) else x)\n",
    "df_expandido_final['descEstadoPago_FALMED'] = df_expandido_final['descEstadoPago_FALMED'].apply(lambda x: limpiar_valor(x) if pd.notna(x) else x)\n",
    "df_expandido_final['descEstadoPago_FATMED'] = df_expandido_final['descEstadoPago_FATMED'].apply(lambda x: limpiar_valor(x) if pd.notna(x) else x)\n",
    "df_expandido_final['descEstadoPago_FSG'] = df_expandido_final['descEstadoPago_FSG'].fillna(\"sin_afiliacion\")\n",
    "df_expandido_final['descEstadoPago_FALMED'] = df_expandido_final['descEstadoPago_FALMED'].fillna(\"sin_afiliacion\")\n",
    "df_expandido_final['descEstadoPago_FATMED'] = df_expandido_final['descEstadoPago_FATMED'].fillna(\"sin_afiliacion\")\n",
    "\n",
    "# reemplazar nan con vacio\n",
    "df_expandido_final = df_expandido_final.fillna('')\n",
    "\n",
    "columnas_df = ['id_COLEGIO','fechaInscripcion_COLEGIO','descCondicionSocio_COLEGIO','descEstadoPago_COLEGIO',\n",
    "                   'descCondicionSocio_CLUB CAMPO','descEstadoPago_CLUB CAMPO','fecha_actualizacion_pagos','descEstadoPago_FSG', 'descEstadoPago_FALMED', 'descEstadoPago_FATMED']\n",
    "\n",
    "df_expandido_final[columnas_df]"
   ]
  },
  {
   "cell_type": "code",
   "execution_count": null,
   "metadata": {
    "colab": {
     "base_uri": "https://localhost:8080/"
    },
    "executionInfo": {
     "elapsed": 1097100,
     "status": "ok",
     "timestamp": 1751476235433,
     "user": {
      "displayName": "Nicole Nuñez",
      "userId": "17651423384033710969"
     },
     "user_tz": 240
    },
    "id": "izKohHX4xqJ9",
    "outputId": "b809313a-e594-4395-b80e-182faccb6c75"
   },
   "outputs": [],
   "source": [
    "import requests\n",
    "import time\n",
    "import sys\n",
    "from tqdm import tqdm  # Barra de progreso\n",
    "import os\n",
    "\n",
    "# Configura tu API Key de HubSpot\n",
    "api_key = os.getenv('HUBSPOT_API_KEY')\n",
    "\n",
    "# Selecciona los primeros 200 contactos\n",
    "df_contactos = df_expandido_final\n",
    "\n",
    "# Define los headers\n",
    "headers = {\n",
    "    'Content-Type': 'application/json',\n",
    "    'Authorization': f'Bearer {api_key}'\n",
    "}\n",
    "\n",
    "# Itera sobre cada fila del DataFrame con barra de progreso\n",
    "# Mantén un margen de tiempo para evitar saturar la API\n",
    "for index, row in tqdm(df_contactos.iterrows(), total=len(df_contactos), desc=\"Actualizando contactos\", ncols=100):\n",
    "    try:\n",
    "        contact_id = row['id_COLEGIO']\n",
    "        data = {\n",
    "            \"properties\": {\n",
    "                \"fecha_inscripcion_al_colegio\": row.get('fechaInscripcion_COLEGIO', \"\"),\n",
    "                \"condicion\": row.get('descCondicionSocio_COLEGIO', \"\"),\n",
    "                \"estado_pago\": row.get('descEstadoPago_COLEGIO', \"\"),\n",
    "                \"club_medico\": row.get('descCondicionSocio_CLUB CAMPO', \"\"),\n",
    "                \"estado_pago_club_medico\": row.get('descEstadoPago_CLUB CAMPO', \"\"),\n",
    "                \"fecha_actualizacion_pagos\": row.get('fecha_actualizacion_pagos', \"\"),\n",
    "                \"estado_pago_fsg\": row.get('descEstadoPago_FSG', \"\"),\n",
    "                \"estado_pago_falmed\": row.get('descEstadoPago_FALMED', \"\"),\n",
    "                \"estado_pago_fatmed\": row.get('descEstadoPago_FATMED', \"\")\n",
    "            }\n",
    "        }\n",
    "\n",
    "        # URL de la API de HubSpot\n",
    "        url = f'https://api.hubapi.com/crm/v3/objects/contacts/{contact_id}'\n",
    "\n",
    "        # Realiza la solicitud PATCH\n",
    "        response = requests.patch(url, headers=headers, json=data)\n",
    "\n",
    "        # Verifica la respuesta\n",
    "        if response.status_code == 200:\n",
    "            # El contacto fue actualizado correctamente\n",
    "            log_file.write(f\"✅ Contacto {contact_id} actualizado correctamente.\\n\")\n",
    "        elif response.status_code == 429:\n",
    "            # Límite de tasa alcanzado, espera antes de reintentar\n",
    "            wait_time = int(response.headers.get('X-RateLimit-Reset', 5))  # Establecer tiempo de espera\n",
    "            log_file.write(f\"🚨 Límite de tasa alcanzado. Esperando {wait_time} segundos...\\n\")\n",
    "            time.sleep(wait_time)\n",
    "        else:\n",
    "            log_file.write(f\"❌ Error al actualizar {contact_id}: {response.status_code} - {response.text}\\n\")\n",
    "\n",
    "    except Exception as e:\n",
    "        log_file.write(f\"⚠ Error en el contacto {contact_id}: {str(e)}\\n\")\n",
    "\n",
    "    # Pausa para evitar saturar la API\n",
    "    time.sleep(0.3)  # Ajusta según tus necesidades\n"
   ]
  },
  {
   "cell_type": "code",
   "execution_count": null,
   "metadata": {
    "colab": {
     "base_uri": "https://localhost:8080/"
    },
    "executionInfo": {
     "elapsed": 75,
     "status": "ok",
     "timestamp": 1751476235440,
     "user": {
      "displayName": "Nicole Nuñez",
      "userId": "17651423384033710969"
     },
     "user_tz": 240
    },
    "id": "dd-vOjlw54VJ",
    "outputId": "a3eeb2fc-ed7c-4c7a-c3c3-4307fffd693b"
   },
   "outputs": [],
   "source": [
    "mem_end = process.memory_info().rss\n",
    "end = time.time()\n",
    "\n",
    "log_file.write(f\"Tiempo total: {end - start:.2f} segundos\\n\")\n",
    "log_file.write(f\"Memoria total usada: {(mem_end - mem_start)/1024**2:.2f} MB\\n\")\n",
    "\n",
    "# Cerrar el archivo de log\n",
    "log_file.write(\"--- FIN DEL LOG ---\\n\")\n",
    "log_file.close()"
   ]
  }
 ],
 "metadata": {
  "colab": {
   "authorship_tag": "ABX9TyNlZTM5nZtAXH31WbeTpfPV",
   "provenance": []
  },
  "kernelspec": {
   "display_name": "Python 3",
   "name": "python3"
  },
  "language_info": {
   "name": "python"
  }
 },
 "nbformat": 4,
 "nbformat_minor": 0
}
