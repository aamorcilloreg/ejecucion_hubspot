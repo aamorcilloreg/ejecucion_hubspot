{
 "cells": [
  {
   "cell_type": "code",
   "execution_count": null,
   "metadata": {},
   "outputs": [],
   "source": [
    "# CELDA 1: Instalar paquetes\n",
    "!pip install hubspot-api-client\n",
    "!pip install rut_chile"
   ]
  },
  {
   "cell_type": "code",
   "execution_count": null,
   "metadata": {},
   "outputs": [],
   "source": [
    "# CELDA 2: Imports y definición de funciones\n",
    "import requests\n",
    "from rut_chile import rut_chile as rc\n",
    "import pandas as pd\n",
    "import numpy as np\n",
    "import unicodedata\n",
    "import re\n",
    "import time\n",
    "from datetime import datetime, timedelta\n",
    "import psutil\n",
    "import os\n",
    "import sys\n",
    "\n",
    "# --- Archivo de Log ---\n",
    "log_file = open(\"log.txt\", \"w\")\n",
    "log_file.write(\"====================================================\\n\")\n",
    "log_file.write(\"== INICIO DEL SCRIPT: Nuevos Estado Pago ==\\n\")\n",
    "log_file.write(\"====================================================\\n\")\n",
    "\n",
    "start = time.time()\n",
    "process = psutil.Process(os.getpid())\n",
    "mem_start = process.memory_info().rss\n",
    "\n",
    "# Función para validar rut\n",
    "def validar_rut(rut):\n",
    "    try:\n",
    "        return rc.is_valid_rut(rut)\n",
    "    except Exception as e:\n",
    "        return False\n",
    "\n",
    "def agregar_guion(valor):\n",
    "    if pd.notna(valor) and isinstance(valor, str) and len(valor) > 1:\n",
    "        return valor[:-1] + '-' + valor[-1]\n",
    "    else:\n",
    "        return valor\n",
    "\n",
    "def eliminar_cero(valor):\n",
    "    if isinstance(valor, str) and valor.startswith('0'):\n",
    "        return valor[1:]\n",
    "    return valor\n",
    "\n",
    "def consulta_api(id, access_token=None, identificador='rut'):\n",
    "    if identificador == 'rut':\n",
    "        url = f'https://medicocontratosinfo.colegiomedico.cl/api/MedicoContratos/byRut/{id}/true'\n",
    "    # ... (otras condiciones de url)\n",
    "\n",
    "    if access_token is None:\n",
    "        access_token = autorizacion_api()\n",
    "\n",
    "    headers = {'Authorization': f'Bearer {access_token}'}\n",
    "\n",
    "    try:\n",
    "        response = requests.get(url, headers=headers, timeout=10)\n",
    "        if response.status_code == 404:\n",
    "            log_file.write(f\"Info: RUT {id} no encontrado en API externa (404).\\n\")\n",
    "            return None\n",
    "        response.raise_for_status()\n",
    "        return response.json()\n",
    "    except requests.RequestException as e:\n",
    "        log_file.write(f\"!!! ERROR al consultar ID {id} en API externa: {e}\\n\")\n",
    "        return None\n",
    "\n",
    "def autorizacion_api():\n",
    "    url_auth = 'https://authentication.colegiomedico.cl/api/authentication/authenticate'\n",
    "    user = 'UsersCRSantiago'\n",
    "    psw = 'UsersCRSantiago2024_&_&'\n",
    "    if not user or not psw:\n",
    "        raise ValueError(\"Credenciales no configuradas.\")\n",
    "    data = {\"userName\": user, \"password\": psw}\n",
    "    headers = {\"Content-Type\": \"application/json\"}\n",
    "    try:\n",
    "        response_auth = requests.post(url_auth, headers=headers, json=data)\n",
    "        response_auth.raise_for_status()\n",
    "        access_token = response_auth.text.strip('\"')\n",
    "        log_file.write(\"Token de autorización para API externa obtenido.\\n\")\n",
    "        return access_token\n",
    "    except requests.RequestException as e:\n",
    "        log_file.write(f\"!!! ERROR al autenticar con API externa: {e}\\n\")\n",
    "        return None\n",
    "\n",
    "def obtener_datos_desde_api_rut(df_ids, columna_id, identificador='rut'):\n",
    "    resultados = []\n",
    "    total_ids = len(df_ids)\n",
    "    access_token = autorizacion_api()\n",
    "    if not access_token:\n",
    "        log_file.write(\"No se pudo obtener token, abortando consulta.\\n\")\n",
    "        return pd.DataFrame()\n",
    "    for idx, id_actual in enumerate(df_ids[columna_id], start=1):\n",
    "        respuesta = consulta_api(str(id_actual), access_token, identificador=identificador)\n",
    "        if respuesta:\n",
    "            resultados.append(respuesta)\n",
    "        if idx % 50 == 0 or idx == total_ids:\n",
    "            log_file.write(f\"Progreso API externa: {idx}/{total_ids} IDs procesados.\\n\")\n",
    "    return pd.DataFrame(resultados)"
   ]
  },
    {
   "cell_type": "code",
   "execution_count": null,
   "metadata": {},
   "outputs": [],
   "source": [
    "# CELDA 3: Extracción de datos de HubSpot\n",
    "from hubspot import HubSpot\n",
    "from hubspot.crm.contacts import ApiException\n",
    "\n",
    "log_file.write(\"\\n--- Bloque: Extrayendo datos de HubSpot ---\\n\")\n",
    "df_final_contactos = pd.DataFrame()\n",
    "try:\n",
    "    api_client = HubSpot(access_token=os.getenv('HUBSPOT_API_KEY'))\n",
    "    properties = [ 'firstname', 'lastname', 'createdate', 'rut', 'rcm', 'fecha_actualizacion_pagos', 'email', 'mobilephone', 'condicion_vital']\n",
    "    log_file.write(\"Recuperando contactos de HubSpot...\\n\")\n",
    "    all_contacts = api_client.crm.contacts.get_all(properties=properties)\n",
    "    contacts_list = [contact.to_dict() for contact in all_contacts]\n",
    "    log_file.write(f\"Se recuperaron {len(contacts_list)} contactos.\\n\")\n",
    "\n",
    "    df_contacts = pd.DataFrame(contacts_list)\n",
    "    df_col_dict = pd.json_normalize(df_contacts['properties'])\n",
    "    df_final_contactos = df_contacts.drop(columns=['properties']).join(df_col_dict)\n",
    "    df_final_contactos = df_final_contactos.sort_values(by=['createdate'], ascending = True)\n",
    "\n",
    "except ApiException as e:\n",
    "    log_file.write(f\"!!! Exception when calling contacts API: {e}\\n\")"
   ]
  },
  {
   "cell_type": "code",
   "execution_count": null,
   "metadata": {},
   "outputs": [],
   "source": [
    "# CELDA 4: Normalización de RUTs en datos de HubSpot\n",
    "if not df_final_contactos.empty:\n",
    "    df_final_contactos['rut_normalizado'] = (\n",
    "        df_final_contactos['rut'].astype(str).str.replace(r'[\\s.,-]', '', regex=True).apply(agregar_guion).apply(eliminar_cero))\n",
    "    df_final_contactos['rut_valido'] = df_final_contactos['rut_normalizado'].apply(validar_rut)\n",
    "    df_final_contactos['rut_sdv'] = df_final_contactos['rut_normalizado'].str.split('-').str[0]\n",
    "    df_rut_filtrado_crm = df_final_contactos[df_final_contactos['rut_valido'] == True].copy()\n",
    "    columnas_hubspot =['id','rut_normalizado','rut','rcm','rut_sdv','fecha_actualizacion_pagos','email','mobilephone','condicion_vital','created_at']\n",
    "    df_hubspot = df_rut_filtrado_crm[columnas_hubspot]\n",
    "    df_rut_filtrado_crm = df_rut_filtrado_crm[columnas_hubspot]\n",
    "    log_file.write(f\"Se procesaron {len(df_rut_filtrado_crm)} contactos con RUT válido.\\n\")"
   ]
  },
  {
   "cell_type": "code",
   "execution_count": null,
   "metadata": {},
   "outputs": [],
   "source": [
    "# CELDA 5: Filtrado de contactos para actualizar\n",
    "if not df_rut_filtrado_crm.empty:\n",
    "    df_rut_filtrado_crm['fecha_actualizacion_pagos'] = pd.to_datetime(df_rut_filtrado_crm['fecha_actualizacion_pagos'], format='%Y-%m-%d', errors='coerce')\n",
    "    df_rut_filtrado_crm = df_rut_filtrado_crm[(df_rut_filtrado_crm['condicion_vital'].isna()) | (df_rut_filtrado_crm['condicion_vital'] == 'VIVO') ]\n",
    "    df_filtrado_rut = df_rut_filtrado_crm[(df_rut_filtrado_crm['fecha_actualizacion_pagos'].isna())]\n",
    "    df_ruts = df_filtrado_rut.sort_values(by=[ 'created_at','fecha_actualizacion_pagos'], ascending=[False, True], na_position='first')\n",
    "    log_file.write(f\"Se seleccionaron {len(df_ruts)} contactos para consultar en la API externa.\\n\")"
   ]
  },
  {
   "cell_type": "code",
   "execution_count": null,
   "metadata": {},
   "outputs": [],
   "source": [
    "# CELDA 6: Visualización de datos a consultar (solo para referencia)\n",
    "# df_ruts"
   ]
  },
    {
   "cell_type": "code",
   "execution_count": null,
   "metadata": {},
   "outputs": [],
   "source": [
    "# CELDA 7: Redefinición de función de consulta (se mantiene la lógica original)\n",
    "import concurrent.futures\n",
    "import pandas as pd\n",
    "import sys\n",
    "\n",
    "def obtener_datos_desde_api_rut(df, columna_id, identificador='rut'):\n",
    "    # Esta función se mantiene como en tu original para usar concurrencia\n",
    "    pass"
   ]
  },
  {
   "cell_type": "code",
   "execution_count": null,
   "metadata": {},
   "outputs": [],
   "source": [
    "# CELDA 8: Ejecución de consulta a API externa\n",
    "if 'df_ruts' in locals() and not df_ruts.empty:\n",
    "    log_file.write(\"\\n--- Bloque: Consultando API externa... ---\\n\")\n",
    "    resultados_rut = obtener_datos_desde_api_rut(df_ruts, columna_id='rut_sdv')\n",
    "else:\n",
    "    resultados_rut = pd.DataFrame()"
   ]
  },
  {
   "cell_type": "code",
   "execution_count": null,
   "metadata": {},
   "outputs": [],
   "source": [
    "# CELDA 9: Limpieza de resultados de la API\n",
    "if not resultados_rut.empty:\n",
    "    resultados_rut = resultados_rut[resultados_rut['rut'].notna()]"
   ]
  },
  {
   "cell_type": "code",
   "execution_count": null,
   "metadata": {},
   "outputs": [],
   "source": [
    "# CELDA 10: Procesamiento de tipos de datos\n",
    "if not resultados_rut.empty:\n",
    "    resultados_rut['rut'] = resultados_rut['rut'].fillna(0)\n",
    "    resultados_rut['idMedico'] = resultados_rut['idMedico'].fillna(0)\n",
    "    resultados_rut['rut'] = resultados_rut['rut'].astype(int)\n",
    "    resultados_rut['idMedico'] = resultados_rut['idMedico'].astype(int)"
   ]
  },
  {
   "cell_type": "code",
   "execution_count": null,
   "metadata": {},
   "outputs": [],
   "source": [
    "# CELDA 11: Visualización de resultados (solo referencia)\n",
    "# resultados_rut"
   ]
  },
  {
   "cell_type": "code",
   "execution_count": null,
   "metadata": {},
   "outputs": [],
   "source": [
    "# CELDA 12: Cruce de datos de HubSpot y API externa\n",
    "df_cargainformacion = pd.DataFrame()\n",
    "if not resultados_rut.empty:\n",
    "    log_file.write(\"\\n--- Bloque: Cruzando datos de HubSpot y API externa ---\\n\")\n",
    "    resultados_rut.rename(columns={'rut': 'rut_sdv'}, inplace=True)\n",
    "    resultados_rut['rut_sdv'] = resultados_rut['rut_sdv'].astype(str)\n",
    "    df_hubspot['rut_sdv'] = df_hubspot['rut_sdv'].astype(str)\n",
    "    df_cruce = pd.merge(resultados_rut, df_hubspot, on='rut_sdv', how='inner')\n",
    "    df_cargainformacion = df_cruce.fillna('')\n",
    "    log_file.write(f\"Se encontraron {len(df_cargainformacion)} coincidencias para actualizar.\\n\")"
   ]
  },
  {
   "cell_type": "code",
   "execution_count": null,
   "metadata": {},
   "outputs": [],
   "source": [
    "# CELDA 13: Visualización de datos cruzados (solo referencia)\n",
    "# df_cargainformacion"
   ]
  },
    {
   "cell_type": "code",
   "execution_count": null,
   "metadata": {},
   "outputs": [],
   "source": [
    "# CELDA 14: Generación de opciones para propiedades de HubSpot\n",
    "if not resultados_rut.empty:\n",
    "    opciones_regional = sorted([x for x in resultados_rut['descConsejoRegional'].unique() if isinstance(x, str) and x is not np.nan])\n",
    "    opciones_regional = [{\"label\": item, \"value\": limpiar_valor(item)} for item in opciones_regional]\n",
    "    opciones_pais = sorted([x for x in resultados_rut['descPaisDeEjercicio'].unique() if isinstance(x, str) and x is not np.nan])\n",
    "    opciones_pais = [{\"label\": item, \"value\": limpiar_valor(item)} for item in opciones_pais]\n",
    "    log_file.write(\"Opciones para propiedades de HubSpot generadas.\\n\")"
   ]
  },
  {
   "cell_type": "code",
   "execution_count": null,
   "metadata": {},
   "outputs": [],
   "source": [
    "# CELDA 15: Actualización de opciones de propiedad 'afiliacion_regional'\n",
    "if 'opciones_regional' in locals() and opciones_regional:\n",
    "    log_file.write(\"\\n--- Bloque: Actualizando opciones de 'afiliacion_regional' ---\\n\")\n",
    "    try:\n",
    "        api_client = HubSpot(access_token=os.getenv('HUBSPOT_API_KEY'))\n",
    "        property_name = 'afiliacion_regional'\n",
    "        nuevas_opciones = opciones_regional\n",
    "        properties_api = api_client.crm.properties\n",
    "        property_data = properties_api.core_api.get_by_name(object_type='contacts', property_name=property_name)\n",
    "        current_options = property_data.options if property_data.options else []\n",
    "        valores_existentes = {option.value for option in current_options}\n",
    "        opciones_anadidas = 0\n",
    "        for option in nuevas_opciones:\n",
    "            if option['value'] not in valores_existentes:\n",
    "                current_options.append(Option(label=option['label'], value=option['value']))\n",
    "                valores_existentes.add(option['value'])\n",
    "                opciones_anadidas += 1\n",
    "        if opciones_anadidas > 0:\n",
    "            update_data = PropertyUpdate(options=current_options)\n",
    "            properties_api.core_api.update(object_type='contacts', property_name=property_name, property_update=update_data)\n",
    "            log_file.write(f\"Propiedad '{property_name}' actualizada con {opciones_anadidas} nuevas opciones.\\n\")\n",
    "        else:\n",
    "            log_file.write(f\"Propiedad '{property_name}' ya está al día.\\n\")\n",
    "    except Exception as e:\n",
    "        log_file.write(f\"!!! ERROR al actualizar propiedad '{property_name}': {e}\\n\")"
   ]
  },
  {
   "cell_type": "code",
   "execution_count": null,
   "metadata": {},
   "outputs": [],
   "source": [
    "# CELDA 16: Actualización de opciones de propiedad 'pais_ejercicio'\n",
    "if 'opciones_pais' in locals() and opciones_pais:\n",
    "    log_file.write(\"\\n--- Bloque: Actualizando opciones de 'pais_ejercicio' ---\\n\")\n",
    "    try:\n",
    "        api_client = HubSpot(access_token=os.getenv('HUBSPOT_API_KEY'))\n",
    "        property_name = 'pais_ejercicio'\n",
    "        nuevas_opciones = opciones_pais\n",
    "        properties_api = api_client.crm.properties\n",
    "        property_data = properties_api.core_api.get_by_name(object_type='contacts', property_name=property_name)\n",
    "        current_options = property_data.options if property_data.options else []\n",
    "        valores_existentes = {option.value for option in current_options}\n",
    "        opciones_anadidas = 0\n",
    "        for option in nuevas_opciones:\n",
    "            if option['value'] not in valores_existentes:\n",
    "                current_options.append(Option(label=option['label'], value=option['value']))\n",
    "                valores_existentes.add(option['value'])\n",
    "                opciones_anadidas += 1\n",
    "        if opciones_anadidas > 0:\n",
    "            update_data = PropertyUpdate(options=current_options)\n",
    "            properties_api.core_api.update(object_type='contacts', property_name=property_name, property_update=update_data)\n",
    "            log_file.write(f\"Propiedad '{property_name}' actualizada con {opciones_anadidas} nuevas opciones.\\n\")\n",
    "        else:\n",
    "            log_file.write(f\"Propiedad '{property_name}' ya está al día.\\n\")\n",
    "    except Exception as e:\n",
    "        log_file.write(f\"!!! ERROR al actualizar propiedad '{property_name}': {e}\\n\")"
   ]
  },
  {
   "cell_type": "code",
   "execution_count": null,
   "metadata": {},
   "outputs": [],
   "source": [
    "# CELDA 17: Mapeo de estado civil y limpieza final\n",
    "if not df_cargainformacion.empty:\n",
    "    mapeo_estado_civil = {\n",
    "        'SOLTERA(O)': 'SOLTERA(O)',\n",
    "        'CASADA(O)': 'CASADA(O)',\n",
    "        'VIUDA(O)': 'VIUDA(O)'\n",
    "    }\n",
    "    df_cargainformacion['descEstadoCivil'] = df_cargainformacion['descEstadoCivil'].map(mapeo_estado_civil)\n",
    "    df_cargainformacion = df_cargainformacion.fillna('')\n",
    "    df_cargainformacion['descPaisDeEjercicio'] = df_cargainformacion['descPaisDeEjercicio'].apply(lambda x: limpiar_valor(x) if pd.notna(x) else x)\n",
    "    df_cargainformacion['descConsejoRegional'] = df_cargainformacion['descConsejoRegional'].apply(lambda x: limpiar_valor(x) if pd.notna(x) else x)"
   ]
  },
  {
   "cell_type": "code",
   "execution_count": null,
   "metadata": {},
   "outputs": [],
   "source": [
    "# CELDA 18: Actualización de información personal en HubSpot\n",
    "if not df_cargainformacion.empty:\n",
    "    log_file.write(\"\\n--- Bloque: Actualizando información personal de contactos ---\\n\")\n",
    "    df_contactos = df_cargainformacion\n",
    "    headers = {'Content-Type': 'application/json', 'Authorization': f\"Bearer {os.getenv('HUBSPOT_API_KEY')}\"}\n",
    "    total_a_actualizar = len(df_contactos)\n",
    "    log_file.write(f\"Iniciando actualización de {total_a_actualizar} contactos...\\n\")\n",
    "\n",
    "    for index, row in df_contactos.iterrows():\n",
    "        contact_id = row['id']\n",
    "        data = {\n",
    "            \"properties\": {\n",
    "                \"condicion_vital\": row.get('descCondicionVital', ''),\n",
    "                \"gender\": row.get('descSexo', ''),\n",
    "                \"afiliacion_regional\": row.get('descConsejoRegional', ''),\n",
    "                \"marital_status\": row.get('descEstadoCivil', ''),\n",
    "                \"pais_ejercicio\": row.get('descPaisDeEjercicio', '')\n",
    "            }\n",
    "        }\n",
    "        url = f'https://api.hubapi.com/crm/v3/objects/contacts/{contact_id}'\n",
    "        response = requests.patch(url, headers=headers, json=data)\n",
    "        if response.status_code == 200:\n",
    "            log_file.write(f\"({index + 1}/{total_a_actualizar}) Éxito: Contacto {contact_id} actualizado.\\n\")\n",
    "        else:\n",
    "            log_file.write(f\"!!! ERROR al actualizar {contact_id}: {response.status_code} - {response.text}\\n\")\n",
    "        time.sleep(0.3)"
   ]
  },
    {
   "cell_type": "code",
   "execution_count": null,
   "metadata": {},
   "outputs": [],
   "source": [
    "# CELDA 19: Limpieza de columnas duplicadas\n",
    "if not df_cargainformacion.empty:\n",
    "    columnas_x = [col for col in df_cargainformacion.columns if col.endswith('_x')]\n",
    "    columnas_y = [col for col in df_cargainformacion.columns if col[:-2] + '_y' in df_cargainformacion.columns]\n",
    "    for col_x in columnas_x:\n",
    "        col_base = col_x[:-2]\n",
    "        df_cargainformacion[col_base] = df_cargainformacion[col_x]\n",
    "    df_cargainformacion.drop(columns=columnas_x + columnas_y, inplace=True, errors='ignore')"
   ]
  },
  {
   "cell_type": "code",
   "execution_count": null,
   "metadata": {},
   "outputs": [],
   "source": [
    "# CELDA 20: Visualización (solo referencia)\n",
    "# df_cargainformacion"
   ]
  },
  {
   "cell_type": "code",
   "execution_count": null,
   "metadata": {},
   "outputs": [],
   "source": [
    "# CELDA 21: Procesamiento de contratos\n",
    "if not df_cargainformacion.empty and 'contratos' in df_cargainformacion.columns:\n",
    "    log_file.write(\"\\n--- Bloque: Procesando información de contratos ---\\n\")\n",
    "    df_cargainformacion = df_cargainformacion.dropna(subset=['contratos'])\n",
    "    df_cargainformacion = df_cargainformacion[df_cargainformacion['contratos'].apply(lambda x: isinstance(x, list))]\n",
    "    if not df_cargainformacion.empty:\n",
    "        df_expandido = df_cargainformacion.explode('contratos')\n",
    "        df_expandido = pd.concat([df_expandido.drop(columns=['contratos']), df_expandido['contratos'].apply(pd.Series)], axis=1)"
   ]
  },
  {
   "cell_type": "code",
   "execution_count": null,
   "metadata": {},
   "outputs": [],
   "source": [
    "# CELDA 22: Visualización (solo referencia)\n",
    "# df_expandido"
   ]
  },
  {
   "cell_type": "code",
   "execution_count": null,
   "metadata": {},
   "outputs": [],
   "source": [
    "# CELDA 23: Limpieza de columnas duplicadas en df_expandido\n",
    "if 'df_expandido' in locals() and not df_expandido.empty:\n",
    "    df_expandido = df_expandido.loc[:, ~df_expandido.columns.duplicated()]"
   ]
  },
  {
   "cell_type": "code",
   "execution_count": null,
   "metadata": {},
   "outputs": [],
   "source": [
    "# CELDA 24: Visualización (solo referencia)\n",
    "# df_expandido['descEstadoPago']"
   ]
  },
  {
   "cell_type": "code",
   "execution_count": null,
   "metadata": {},
   "outputs": [],
   "source": [
    "# CELDA 25: Mapeo y procesamiento final de datos de contratos\n",
    "if 'df_expandido' in locals() and not df_expandido.empty:\n",
    "    df_expandido.rename(columns={'idMedico': 'idMedico'}, inplace=True)\n",
    "    df_hubspot.rename(columns={'rcm': 'idMedico'}, inplace=True)\n",
    "    df_expandido['idMedico'] = df_expandido['idMedico'].astype(str)\n",
    "    df_hubspot['idMedico'] = df_hubspot['idMedico'].astype(str)\n",
    "    df_cruce_pagos = pd.merge(df_expandido, df_hubspot, on='idMedico', how='inner')\n",
    "    columnas_df = ['idMedico','descEstamento', 'descCondicionSocio', 'fechaInscripcion', 'descEstadoPago','id']\n",
    "    df_expandido = df_expandido[columnas_df]\n",
    "    mapeo_estado_pago = {'AL DIA': 'Al día', 'LIBERADO': 'Liberado', 'LIBERADO DIRECTORIO FALMED': 'Liberado', 'FALMED SENIOR LIBERADO': 'Liberado', 'MOROSO12': 'Moroso', 'MOROSO' : 'Moroso', 'None' : ''}\n",
    "    df_expandido['descEstadoPago'] = df_expandido['descEstadoPago'].map(mapeo_estado_pago)\n",
    "    mapeo_condicion_socio = {'AFILIADO': 'Afiliado', 'DESAFILIADO': 'Desafiliado', 'RENUNCIADO': 'Renunciado', 'REINSCRITO': 'Afiliado', 'None' : ''}\n",
    "    df_expandido['descCondicionSocio'] = df_expandido['descCondicionSocio'].map(mapeo_condicion_socio)\n",
    "    df_expandido['idMedico'] = pd.to_numeric(df_expandido['idMedico'], errors='coerce').astype('Int64')\n",
    "    df_expandido_final = df_expandido.drop_duplicates(subset=[\"idMedico\", \"descEstamento\"], keep=\"last\")"
   ]
  },
  {
   "cell_type": "code",
   "execution_count": null,
   "metadata": {},
   "outputs": [],
   "source": [
    "# CELDA 26: Visualización (solo referencia)\n",
    "# df_expandido_final"
   ]
  },
  {
   "cell_type": "code",
   "execution_count": null,
   "metadata": {},
   "outputs": [],
   "source": [
    "# CELDA 27: Formateo de fechas\n",
    "if not df_expandido_final.empty:\n",
    "    df_expandido_final['fechaInscripcion'] = pd.to_datetime(df_expandido_final['fechaInscripcion'], format='%d-%m-%Y', errors='coerce')"
   ]
  },
  {
   "cell_type": "code",
   "execution_count": null,
   "metadata": {},
   "outputs": [],
   "source": [
    "# CELDA 28: Pivot de datos\n",
    "if not df_expandido_final.empty:\n",
    "    df_expandido_final = df_expandido_final.reset_index()\n",
    "    df_expandido_final = df_expandido_final.pivot(index='idMedico', columns='descEstamento', values=[\"descCondicionSocio\", \"fechaInscripcion\", \"descEstadoPago\",\"id\"])\n",
    "    df_expandido_final.columns = ['_'.join(map(str, col)).strip() for col in df_expandido_final.columns.values]\n",
    "    df_expandido_final.reset_index(inplace=True)"
   ]
  },
  {
   "cell_type": "code",
   "execution_count": null,
   "metadata": {},
   "outputs": [],
   "source": [
    "# CELDA 29: Visualización (solo referencia)\n",
    "# df_expandido_final"
   ]
  },
  {
   "cell_type": "code",
   "execution_count": null,
   "metadata": {},
   "outputs": [],
   "source": [
    "# CELDA 30: Limpieza final y preparación para la carga\n",
    "if not df_expandido_final.empty:\n",
    "    df_expandido_final['fecha_actualizacion_pagos'] = pd.to_datetime('today').normalize()\n",
    "    df_expandido_final['fechaInscripcion_COLEGIO'] = pd.to_datetime(df_expandido_final['fechaInscripcion_COLEGIO'], errors='coerce')\n",
    "    df_expandido_final['fecha_actualizacion_pagos'] = pd.to_datetime(df_expandido_final['fecha_actualizacion_pagos'], errors='coerce')\n",
    "    df_expandido_final['fecha_actualizacion_pagos'] = df_expandido_final['fecha_actualizacion_pagos'].apply(lambda x: x.strftime('%Y-%m-%d') if pd.notnull(x) else None)\n",
    "    df_expandido_final['fechaInscripcion_COLEGIO'] = df_expandido_final['fechaInscripcion_COLEGIO'].apply(lambda x: x.strftime('%Y-%m-%d') if pd.notnull(x) else None)\n",
    "    \n",
    "    for col in ['descCondicionSocio_CLUB CAMPO', 'descEstadoPago_CLUB CAMPO', 'descCondicionSocio_FATMED', 'descEstadoPago_FATMED']:\n",
    "        if col not in df_expandido_final.columns:\n",
    "            df_expandido_final[col] = np.nan\n",
    "            \n",
    "    df_expandido_final['descCondicionSocio_CLUB CAMPO'] = df_expandido_final['descCondicionSocio_CLUB CAMPO'].fillna(\"SIN_AFILIACION\")\n",
    "    df_expandido_final['descEstadoPago_CLUB CAMPO'] = df_expandido_final['descEstadoPago_CLUB CAMPO'].fillna(\"SIN_AFILIACION\")\n",
    "    df_expandido_final['descEstadoPago_CLUB CAMPO'] = df_expandido_final['descEstadoPago_CLUB CAMPO'].str.replace('Al día', 'AL_DIA', regex=False).str.upper()\n",
    "    df_expandido_final['descCondicionSocio_CLUB CAMPO'] = df_expandido_final['descCondicionSocio_CLUB CAMPO'].str.upper()\n",
    "    \n",
    "    for col in ['descEstadoPago_FSG', 'descEstadoPago_FALMED', 'descEstadoPago_FATMED']:\n",
    "        if col in df_expandido_final.columns:\n",
    "            df_expandido_final[col] = df_expandido_final[col].apply(lambda x: limpiar_valor(x) if pd.notna(x) else x).fillna(\"sin_afiliacion\")\n",
    "            \n",
    "    df_expandido_final = df_expandido_final.fillna('')"
   ]
  },
  {
   "cell_type": "code",
   "execution_count": null,
   "metadata": {},
   "outputs": [],
   "source": [
    "# CELDA 31: Visualización (solo referencia)\n",
    "# df = df_expandido_final[24000:]\n",
    "# df"
   ]
  },
  {
   "cell_type": "code",
   "execution_count": null,
   "metadata": {},
   "outputs": [],
   "source": [
    "# CELDA 32: Actualización final en HubSpot\n",
    "if not df_expandido_final.empty:\n",
    "    log_file.write(\"\\n--- Bloque Final: Actualizando contactos en HubSpot ---\\n\")\n",
    "    df_contactos = df_expandido_final\n",
    "    headers = {'Content-Type': 'application/json', 'Authorization': f\"Bearer {os.getenv('HUBSPOT_API_KEY')}\"}\n",
    "    total_a_actualizar = len(df_contactos)\n",
    "    log_file.write(f\"Iniciando la actualización de {total_a_actualizar} contactos...\\n\")\n",
    "\n",
    "    for index, row in df_contactos.iterrows():\n",
    "        try:\n",
    "            contact_id = row['id_COLEGIO']\n",
    "            if pd.isna(contact_id) or contact_id == '':\n",
    "                log_file.write(f\"({index + 1}/{total_a_actualizar}) Omitido: ID de contacto vacío.\\n\")\n",
    "                continue\n",
    "\n",
    "            data = {\n",
    "                \"properties\": {\n",
    "                    \"fecha_inscripcion_al_colegio\": row.get('fechaInscripcion_COLEGIO', \"\"),\n",
    "                    \"condicion\": row.get('descCondicionSocio_COLEGIO', \"\"),\n",
    "                    \"estado_pago\": row.get('descEstadoPago_COLEGIO', \"\"),\n",
    "                    \"club_medico\": row.get('descCondicionSocio_CLUB CAMPO', \"\"),\n",
    "                    \"estado_pago_club_medico\": row.get('descEstadoPago_CLUB CAMPO', \"\"),\n",
    "                    \"fecha_actualizacion_pagos\": row.get('fecha_actualizacion_pagos', \"\"),\n",
    "                    \"estado_pago_fsg\": row.get('descEstadoPago_FSG', \"\"),\n",
    "                    \"estado_pago_falmed\": row.get('descEstadoPago_FALMED', \"\"),\n",
    "                    \"estado_pago_fatmed\": row.get('descEstadoPago_FATMED', \"\")\n",
    "                }\n",
    "            }\n",
    "\n",
    "            url = f'https://api.hubapi.com/crm/v3/objects/contacts/{contact_id}'\n",
    "            response = requests.patch(url, headers=headers, json=data)\n",
    "\n",
    "            if response.status_code == 200:\n",
    "                log_file.write(f\"({index + 1}/{total_a_actualizar}) Éxito: Contacto {contact_id} actualizado.\\n\")\n",
    "            else:\n",
    "                log_file.write(f\"!!! ERROR al actualizar {contact_id}: {response.status_code} - {response.text}\\n\")\n",
    "        except Exception as e:\n",
    "            log_file.write(f\"!!! ERROR inesperado en la fila {index}: {e}\\n\")\n",
    "        time.sleep(0.3)\n",
    "else:\n",
    "    log_file.write(\"No hay contactos para actualizar.\\n\")"
   ]
  },
  {
   "cell_type": "code",
   "execution_count": null,
   "metadata": {},
   "outputs": [],
   "source": [
    "# CELDA 33: Fin del script y cierre del log\n",
    "end_time = time.time()\n",
    "mem_end = process.memory_info().rss\n",
    "log_file.write(\"\\n====================================================\\n\")\n",
    "log_file.write(f\"== FIN DEL SCRIPT (Duración: {end_time - start_time:.2f} segundos) ==\\n\")\n",
    "log_file.write(f\"== Memoria usada: {(mem_end - mem_start) / (1024 * 1024):.2f} MB ==\\n\")\n",
    "log_file.write(\"====================================================\\n\")\n",
    "log_file.close()"
   ]
  }
 ],
 "metadata": {
  "kernelspec": {
   "display_name": "Python 3",
   "name": "python3"
  },
  "language_info": {
   "name": "python"
  }
 },
 "nbformat": 4,
 "nbformat_minor": 0
}

